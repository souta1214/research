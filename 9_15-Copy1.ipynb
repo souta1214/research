{
 "cells": [
  {
   "cell_type": "markdown",
   "metadata": {},
   "source": [
    "<font size=\"5\">ライブラリのインストール</font>"
   ]
  },
  {
   "cell_type": "code",
   "execution_count": 1,
   "metadata": {},
   "outputs": [],
   "source": [
    "# !pip install jupyter-contrib-nbextensions\n",
    "# !pip install jupyter-nbextensions-configurator\n",
    "\n",
    "# !jupyter contrib nbextension install\n",
    "# !jupyter nbextensions_configurator enable\n",
    "# !pip install torchsummary"
   ]
  },
  {
   "cell_type": "markdown",
   "metadata": {},
   "source": [
    "<font size=\"5\">ライブラリのインポート"
   ]
  },
  {
   "cell_type": "code",
   "execution_count": 2,
   "metadata": {},
   "outputs": [],
   "source": [
    "import torch\n",
    "import torch.nn as nn\n",
    "import torch.nn.functional as F\n",
    "import torch.optim as optim\n",
    "from torchvision import datasets, transforms\n",
    "from torch.utils.data import DataLoader, Dataset\n",
    "import numpy as np\n",
    "import matplotlib.pyplot as plt"
   ]
  },
  {
   "cell_type": "markdown",
   "metadata": {},
   "source": [
    "<font size=\"5\">cpuとgpuの選択"
   ]
  },
  {
   "cell_type": "code",
   "execution_count": 3,
   "metadata": {},
   "outputs": [],
   "source": [
    "use_cuda = torch.cuda.is_available()\n",
    "device = torch.device(\"cuda\" if use_cuda else \"gpu\")"
   ]
  },
  {
   "cell_type": "markdown",
   "metadata": {},
   "source": [
    "<font size=\"5\">乱数を特定の値にして再現性を確保"
   ]
  },
  {
   "cell_type": "code",
   "execution_count": 4,
   "metadata": {},
   "outputs": [],
   "source": [
    "# For reproducibility\n",
    "torch.manual_seed(42)\n",
    "if use_cuda:\n",
    "    torch.cuda.manual_seed(42)"
   ]
  },
  {
   "cell_type": "markdown",
   "metadata": {},
   "source": [
    "<font size =\"5\">pytorch用データセットの作成"
   ]
  },
  {
   "cell_type": "code",
   "execution_count": 5,
   "metadata": {},
   "outputs": [
    {
     "name": "stdout",
     "output_type": "stream",
     "text": [
      "Train Dataset Size: 60000\n",
      "Test Dataset Size: 10000\n"
     ]
    },
    {
     "name": "stderr",
     "output_type": "stream",
     "text": [
      "C:\\Users\\y9723\\anaconda3\\lib\\site-packages\\torchvision\\datasets\\mnist.py:498: UserWarning: The given NumPy array is not writeable, and PyTorch does not support non-writeable tensors. This means you can write to the underlying (supposedly non-writeable) NumPy array using the tensor. You may want to copy the array to protect its data or make it writeable before converting it to a tensor. This type of warning will be suppressed for the rest of this program. (Triggered internally at  ..\\torch\\csrc\\utils\\tensor_numpy.cpp:180.)\n",
      "  return torch.from_numpy(parsed.astype(m[2], copy=False)).view(*s)\n"
     ]
    }
   ],
   "source": [
    "# Load MNIST dataset\n",
    "# pytorchではTensorというデータ構造で、モデルの入力、出力、パラメータを表現\n",
    "# 前処理の定義\n",
    "\"\"\"\n",
    "これから取得するDatasetの中身がndarray型のデータ集合であるため、前処理でtensor型にしたい\n",
    "\n",
    "root\n",
    "Datasetを参照(または保存)するディレクトリを「path」の部分に指定する.\n",
    "そのディレクトリに取得したいDatasetが存在すればダウンロードせずにそれを使用する.\n",
    "\n",
    "train\n",
    "Training用のdataを取得するかどうかを選択する.\n",
    "FalseにすればTest用のdataを取得するが,この2つの違いはdata数の違いと思ってくれて良い.\n",
    "\n",
    "download\n",
    "rootで参照したディレクトリにDatasetがない場合ダウンロードするかどうかを決めることができる.\n",
    "\n",
    "transform\n",
    "定義した前処理を渡す.\n",
    "こうすることでDataset内のdataを参照する時にその前処理を自動で行ってくれる.\n",
    "\"\"\"\n",
    "transform = transforms.Compose([\n",
    "    transforms.ToTensor(),\n",
    "    transforms.Normalize((0.5,), (0.5,))\n",
    "])\n",
    "\n",
    "# 学習用データとテスト用データの取得\n",
    "# transformは私用すると前処理を指定できる\n",
    "# これによりdatasetをdetaloaderに渡して使える状態にした\n",
    "train_dataset_original = datasets.FashionMNIST(root='./data', train=True, transform=transform, download=True)\n",
    "print(f\"Train Dataset Size: {len(train_dataset_original)}\")\n",
    "test_dataset_original = datasets.FashionMNIST(root='./data', train=False, transform=transform)\n",
    "print(f\"Test Dataset Size: {len(test_dataset_original)}\")\n"
   ]
  },
  {
   "cell_type": "markdown",
   "metadata": {},
   "source": [
    "<font size =\"5\">Siamese Network用MNISTデータセットクラスの作成"
   ]
  },
  {
   "cell_type": "code",
   "execution_count": 6,
   "metadata": {},
   "outputs": [],
   "source": [
    "# Siamese Network用MNISTデータセットクラスの作成\n",
    "class SiameseMNIST(Dataset):\n",
    "    def __init__(self, dataset):\n",
    "        self.dataset=dataset\n",
    "        self.length=len(self.dataset)\n",
    "        self.pair_index=[]     # Siamese Net用画像ペアインデックス配列\n",
    "        labels=[label for _, label in self.dataset]     # 入力されたデータセットからラベル情報のみ抽出\n",
    "        positive_count=0     # positiveペアのカウント\n",
    "        negative_count=0     # negativeペアのカウント\n",
    "        random_index=np.arange(self.length)     # ？？？\n",
    "        \n",
    "        while positive_count + negative_count < self.length:\n",
    "            np.random.shuffle(random_index)\n",
    "            for i in np.arange(self.length):\n",
    "                if labels[i]==labels[random_index[i]]:     # 画像ペアのラベルが等しい時（positive）\n",
    "                    if positive_count<self.length/2:      # おそらく比率を同じにしたい？？\n",
    "                        self.pair_index.append([i, random_index[i], 1])      # 要素の構成：[<画像1のインデックス>,<画像2のインデックス>,<posi:1/nega:0フラグ>]\n",
    "                        positive_count+=1\n",
    "                    else:\n",
    "                        continue\n",
    "                else:\n",
    "                    if negative_count<self.length/2:\n",
    "                        self.pair_index.append([i, random_index[i], 0])\n",
    "                        negative_count+=1\n",
    "                    else:\n",
    "                        continue\n",
    "    def __len__(self):\n",
    "        return self.length\n",
    "\n",
    "    def __getitem__(self, index):\n",
    "        return self.dataset[self.pair_index[index][0]][0], self.dataset[self.pair_index[index][1]][0], torch.tensor(self.pair_index[index][2])"
   ]
  },
  {
   "cell_type": "markdown",
   "metadata": {},
   "source": [
    "<font size =\"5\">Siamese Network学習用Dataset, DataLoaderの作成"
   ]
  },
  {
   "cell_type": "code",
   "execution_count": 7,
   "metadata": {},
   "outputs": [],
   "source": [
    "batch_size=64\n",
    "train_dataset=SiameseMNIST(train_dataset_original) \n",
    "train_loader=DataLoader(train_dataset, batch_size=batch_size, shuffle=True)\n",
    "test_loader=DataLoader(test_dataset_original, batch_size=1, shuffle=True)"
   ]
  },
  {
   "cell_type": "markdown",
   "metadata": {},
   "source": [
    "<font size =\"5\">ペア画像の確認"
   ]
  },
  {
   "cell_type": "code",
   "execution_count": 8,
   "metadata": {},
   "outputs": [
    {
     "name": "stdout",
     "output_type": "stream",
     "text": [
      "torch.Size([1, 28, 28])\n",
      "y[0]=0\n",
      "y[1]=1\n",
      "y[2]=1\n",
      "y[3]=1\n",
      "y[4]=1\n",
      "y[5]=1\n",
      "y[6]=0\n",
      "y[7]=0\n",
      "y[8]=0\n",
      "y[9]=0\n"
     ]
    },
    {
     "data": {
      "image/png": "[encoded data removed]",
      "text/plain": [
       "<Figure size 576x1152 with 20 Axes>"
      ]
     },
     "metadata": {
      "needs_background": "light"
     },
     "output_type": "display_data"
    }
   ],
   "source": [
    "X1, X2, y = next(iter(train_loader))\n",
    "print(X1[0].shape)\n",
    "fig=plt.figure(tight_layout=True, figsize=(8, 16))\n",
    "rows=10\n",
    "for i in range(rows):\n",
    "    print(f\"y[{i}]={y[i]}\")\n",
    "    ax = fig.add_subplot(rows, 2, i*2+1)\n",
    "    ax.imshow(X1[i][0].numpy(), cmap='gray')                          # X1[i].shape = (1, 28, 28)，X1[i][0].shape = (28, 28)\n",
    "    ax = fig.add_subplot(rows, 2, i*2+2)\n",
    "    ax.imshow(X2[i][0].numpy(), cmap='gray') "
   ]
  },
  {
   "cell_type": "markdown",
   "metadata": {},
   "source": [
    "<font size=\"5\">モデルの構築"
   ]
  },
  {
   "cell_type": "markdown",
   "metadata": {},
   "source": [
    "super()はあるクラス（子クラス）で別のクラス（親クラス）を継承できる。継承することで、親クラスのメソッドを子クラスから呼び出すことができる。\n",
    "以下の形式\n",
    "super().親クラスのメソッド"
   ]
  },
  {
   "cell_type": "code",
   "execution_count": 15,
   "metadata": {},
   "outputs": [
    {
     "name": "stdout",
     "output_type": "stream",
     "text": [
      "xのshape tensor([[ 0.2709,  0.3395, -0.0590,  ...,  0.1087,  0.1752,  0.1169],\n",
      "        [ 0.1530,  0.3300, -0.0584,  ...,  0.2382, -0.6250,  0.1942],\n",
      "        [ 0.4561, -0.3521, -0.0638,  ..., -0.1682, -0.1133,  0.2373],\n",
      "        ...,\n",
      "        [-0.2675, -0.3258,  0.0313,  ...,  0.2624, -0.0082,  0.2401],\n",
      "        [ 0.2742,  0.0520, -0.5492,  ...,  0.1038,  0.0082,  0.7353],\n",
      "        [ 0.4623, -0.6884, -0.3406,  ..., -0.6263, -0.3771,  0.0680]],\n",
      "       device='cuda:0', grad_fn=<AddmmBackward>)\n"
     ]
    },
    {
     "data": {
      "text/plain": [
       "torch.Size([8, 256])"
      ]
     },
     "execution_count": 15,
     "metadata": {},
     "output_type": "execute_result"
    }
   ],
   "source": [
    "class BaseNetwork(nn.Module):\n",
    "    \"\"\"\n",
    "    Base network for Siamese Network.\n",
    "    This will be shared between two input images.\n",
    "    \"\"\"\n",
    "    def __init__(self):\n",
    "        super().__init__()\n",
    "\n",
    "        # Define the layers\n",
    "        # Using similar architecture as in the Keras example\n",
    "\n",
    "        # First Convolutional Layer\n",
    "        self.conv1 = nn.Conv2d(1, 32, kernel_size=3, stride=1, padding=1)\n",
    "        self.bn1 = nn.BatchNorm2d(32)\n",
    "        self.act1 = nn.ReLU()\n",
    "        self.maxpool1 = nn.MaxPool2d(kernel_size=2, stride=2)\n",
    "\n",
    "        # Second Convolutional Layer\n",
    "        self.conv2 = nn.Conv2d(32, 64, kernel_size=3, stride=1, padding=1)\n",
    "        self.bn2 = nn.BatchNorm2d(64)\n",
    "        self.act2 = nn.ReLU()\n",
    "        self.maxpool2 = nn.MaxPool2d(kernel_size=2, stride=2)\n",
    "\n",
    "        # Flatten and Dense Layers\n",
    "        self.flatten = nn.Flatten()\n",
    "        self.fc1 = nn.Linear(64 * 7 * 7, 128)  # Assuming input image size is 28x28\n",
    "        self.act3 = nn.ReLU()\n",
    "        self.dropout = nn.Dropout(0.5)\n",
    "        self.fc2 = nn.Linear(128, 256)\n",
    "        self.act4 = nn.ReLU()\n",
    "\n",
    "    def forward_1(self, x):\n",
    "        x = self.conv1(x)\n",
    "        x = self.bn1(x)\n",
    "        x = self.act1(x)\n",
    "        x = self.maxpool1(x)\n",
    "\n",
    "        x = self.conv2(x)\n",
    "        x = self.bn2(x)\n",
    "        x = self.act2(x)\n",
    "        x = self.maxpool2(x)\n",
    "\n",
    "        x = self.flatten(x)\n",
    "        x = self.fc1(x)\n",
    "        x = self.act3(x)\n",
    "        x = self.dropout(x)\n",
    "        x = self.fc2(x)\n",
    "#         print(\"xのshape\",x)\n",
    "        x = self.act4(x)\n",
    "\n",
    "        return x\n",
    "\n",
    "    def forward(self, x1,x2):\n",
    "        z1=self.forward_1(x1)\n",
    "        z2=self.forward_1(x2)\n",
    "        return z1,z2\n",
    "\n",
    "# Test the base network with a sample input\n",
    "base_network = BaseNetwork().to(device)\n",
    "sample_input = torch.randn(8, 1, 28, 28).to(device)  # Batch of 8 images of sizammm28x28 with 1 channel\n",
    "sample_output = base_network.forward_1(sample_input)\n",
    "\n",
    "sample_output.shape  # Expected: [8, 256]\n"
   ]
  },
  {
   "cell_type": "code",
   "execution_count": 17,
   "metadata": {},
   "outputs": [],
   "source": [
    "# # Siamse Networkモデルクラス\n",
    "# class SiameseMnistModel(nn.Module):\n",
    "    \n",
    "#     def __init__(self):\n",
    "#         super().__init__()\n",
    "#         self.flatten = nn.Flatten()\n",
    "\n",
    "#         self.encoder = nn.Sequential(\n",
    "#             nn.Linear(28*28, 128),\n",
    "#             nn.ReLU(),\n",
    "#             nn.Linear(128, 128),\n",
    "#             nn.ReLU(),\n",
    "#             nn.Linear(128, 32)\n",
    "#         )\n",
    "    \n",
    "#     def forward_once(self, x):\n",
    "#         x = self.flatten(x)\n",
    "#         z = self.encoder(x)\n",
    "#         return z\n",
    "  \n",
    "#     def forward(self, x1, x2):\n",
    "#         z1 = self.forward_once(x1)\n",
    "#         z2 = self.forward_once(x2)\n",
    "#         return z1, z2\n",
    "\n",
    "# Siamse Networkモデルクラス\n",
    "import torch.nn as nn\n",
    "\n",
    "class SiameseCNNMnistModel(nn.Module):\n",
    "    \n",
    "    def __init__(self):\n",
    "        super().__init__()\n",
    "\n",
    "        self.encoder = nn.Sequential(\n",
    "            nn.Conv2d(1, 32, kernel_size=5, padding=2), # 28x28x32\n",
    "            nn.ReLU(),\n",
    "            nn.MaxPool2d(2,2),                         # 14x14x32\n",
    "            nn.Conv2d(32, 64, kernel_size=5, padding=2),# 14x14x64\n",
    "            nn.ReLU(),\n",
    "            nn.MaxPool2d(2,2)                          # 7x7x64\n",
    "        )\n",
    "\n",
    "        # Fully connected layers to get embeddings\n",
    "        self.fc = nn.Sequential(\n",
    "            nn.Linear(7*7*64, 256),\n",
    "            nn.ReLU(),\n",
    "            nn.Linear(256, 3)\n",
    "        )\n",
    "    \n",
    "    def forward_once(self, x):\n",
    "        x = self.encoder(x)\n",
    "        x = x.view(x.size()[0], -1)  # Flatten\n",
    "        z = self.fc(x)\n",
    "        return z\n",
    "  \n",
    "    def forward(self, x1, x2):\n",
    "        z1 = self.forward_once(x1)\n",
    "        z2 = self.forward_once(x2)\n",
    "        return z1, z2\n"
   ]
  },
  {
   "cell_type": "code",
   "execution_count": 11,
   "metadata": {},
   "outputs": [],
   "source": [
    "# class SiameseNetwork(nn.Module):\n",
    "#     \"\"\"\n",
    "#     Siamese Network using the Base Network to compute embeddings.\n",
    "#     Computes the Euclidean distance between the embeddings of two input images.\n",
    "#     \"\"\"\n",
    "#     def __init__(self, base_network):\n",
    "#         super().__init__()\n",
    "#         self.base_network = base_network\n",
    "\n",
    "#     def forward_one(self, x):\n",
    "#         \"\"\"\n",
    "#         Forward pass for one input.\n",
    "#         \"\"\"\n",
    "#         return self.base_network(x)\n",
    "\n",
    "#     def forward(self, input1, input2):\n",
    "#         \"\"\"\n",
    "#         Forward pass for both inputs.\n",
    "#         \"\"\"\n",
    "#         output1 = self.forward_one(input1)\n",
    "#         output2 = self.forward_one(input2)\n",
    "\n",
    "#         # Compute Euclidean distance\n",
    "#         dist = F.pairwise_distance(output1, output2, keepdim=True)\n",
    "\n",
    "#         return dist\n",
    "\n",
    "# # Test the Siamese network with sample inputs\n",
    "# siamese_net = SiameseNetwork(base_network).to(device)\n",
    "# sample_input1 = torch.randn(8, 1, 28, 28).to(device)\n",
    "# sample_input2 = torch.randn(8, 1, 28, 28).to(device)\n",
    "# sample_dist = siamese_net.forward(sample_input1, sample_input2)\n",
    "\n",
    "# sample_dist.shape  # Expected: [8, 1]"
   ]
  },
  {
   "cell_type": "markdown",
   "metadata": {},
   "source": [
    "<font size=\"5\">損失関数"
   ]
  },
  {
   "cell_type": "code",
   "execution_count": 18,
   "metadata": {},
   "outputs": [],
   "source": [
    "# class ContrastiveLoss(nn.Module):\n",
    "#     \"\"\"\n",
    "#     Contrastive loss for Siamese Networks.\n",
    "#     \"\"\"\n",
    "#     def __init__(self, margin=2.0):\n",
    "#         super(ContrastiveLoss, self).__init__()\n",
    "#         self.margin = margin\n",
    "\n",
    "#     def forward(self, dist, label):\n",
    "#         \"\"\"\n",
    "#         Compute contrastive loss.\n",
    "\n",
    "#         Args:\n",
    "#         - dist: Euclidean distance between the embeddings of two input images.\n",
    "#         - label: 1 if the images are from the same class, 0 otherwise.\n",
    "#         \"\"\"\n",
    "#         loss = (1/2) * label * torch.pow(dist, 2) + \\\n",
    "#                (1/2) * (1 - label) * torch.pow(torch.clamp(self.margin - dist, min=0.0), 2)\n",
    "#         return loss.mean()\n",
    "\n",
    "# # Define the loss function and optimizer\n",
    "# criterion = ContrastiveLoss().to(device)\n",
    "# optimizer = optim.RMSprop(siamese_net.parameters(), lr=0.001)  # Using RMSprop as in the Keras example\n",
    "\n",
    "# # Quick test of the loss function\n",
    "# sample_label = torch.tensor([1, 0, 1, 0, 1, 0, 1, 0], dtype=torch.float32).to(device).unsqueeze(1)  # Simulating same and different classes\n",
    "# loss_value = criterion(sample_dist, sample_label)\n",
    "# loss_value.item()\n",
    "\n",
    "# 損失関数\n",
    "class ContrastiveLoss(nn.Module):\n",
    "    def __init__(self, margin=1.0):\n",
    "        super(ContrastiveLoss, self).__init__()\n",
    "        self.margin = margin\n",
    "\n",
    "    def forward(self, z1, z2, y):\n",
    "        difference = z1 - z2\n",
    "        distance_squared = torch.sum(torch.pow(difference, 2), 1)\n",
    "        distance = torch.sqrt(distance_squared)       #平均：0.813，最大：1.663，最小：0.023，中央値：0.492\n",
    "        negative_distance = self.margin - distance\n",
    "        negative_distance = torch.clamp(negative_distance, min=0.0)\n",
    "        loss = (y * distance_squared + (1 - y) * torch.pow(negative_distance, 2)) / 2.0\n",
    "        loss = torch.sum(loss) / z1.size()[0]\n",
    "        return loss"
   ]
  },
  {
   "cell_type": "markdown",
   "metadata": {},
   "source": [
    "<font size =\"5\">学習の準備"
   ]
  },
  {
   "cell_type": "code",
   "execution_count": 19,
   "metadata": {},
   "outputs": [
    {
     "name": "stdout",
     "output_type": "stream",
     "text": [
      "<bound method Module.parameters of SiameseCNNMnistModel(\n",
      "  (encoder): Sequential(\n",
      "    (0): Conv2d(1, 32, kernel_size=(5, 5), stride=(1, 1), padding=(2, 2))\n",
      "    (1): ReLU()\n",
      "    (2): MaxPool2d(kernel_size=2, stride=2, padding=0, dilation=1, ceil_mode=False)\n",
      "    (3): Conv2d(32, 64, kernel_size=(5, 5), stride=(1, 1), padding=(2, 2))\n",
      "    (4): ReLU()\n",
      "    (5): MaxPool2d(kernel_size=2, stride=2, padding=0, dilation=1, ceil_mode=False)\n",
      "  )\n",
      "  (fc): Sequential(\n",
      "    (0): Linear(in_features=3136, out_features=256, bias=True)\n",
      "    (1): ReLU()\n",
      "    (2): Linear(in_features=256, out_features=3, bias=True)\n",
      "  )\n",
      ")>\n",
      "----------------------------------------------------------------\n",
      "        Layer (type)               Output Shape         Param #\n",
      "================================================================\n",
      "            Conv2d-1           [-1, 32, 28, 28]             832\n",
      "              ReLU-2           [-1, 32, 28, 28]               0\n",
      "         MaxPool2d-3           [-1, 32, 14, 14]               0\n",
      "            Conv2d-4           [-1, 64, 14, 14]          51,264\n",
      "              ReLU-5           [-1, 64, 14, 14]               0\n",
      "         MaxPool2d-6             [-1, 64, 7, 7]               0\n",
      "            Linear-7                  [-1, 256]         803,072\n",
      "              ReLU-8                  [-1, 256]               0\n",
      "            Linear-9                    [-1, 3]             771\n",
      "           Conv2d-10           [-1, 32, 28, 28]             832\n",
      "             ReLU-11           [-1, 32, 28, 28]               0\n",
      "        MaxPool2d-12           [-1, 32, 14, 14]               0\n",
      "           Conv2d-13           [-1, 64, 14, 14]          51,264\n",
      "             ReLU-14           [-1, 64, 14, 14]               0\n",
      "        MaxPool2d-15             [-1, 64, 7, 7]               0\n",
      "           Linear-16                  [-1, 256]         803,072\n",
      "             ReLU-17                  [-1, 256]               0\n",
      "           Linear-18                    [-1, 3]             771\n",
      "================================================================\n",
      "Total params: 1,711,878\n",
      "Trainable params: 1,711,878\n",
      "Non-trainable params: 0\n",
      "----------------------------------------------------------------\n",
      "Input size (MB): 2.34\n",
      "Forward/backward pass size (MB): 1.30\n",
      "Params size (MB): 6.53\n",
      "Estimated Total Size (MB): 10.17\n",
      "----------------------------------------------------------------\n"
     ]
    }
   ],
   "source": [
    "import torch.optim as optim\n",
    "from torchsummary import summary\n",
    "\n",
    "#モデルのインスタンス化\n",
    "model=SiameseCNNMnistModel().to(device)\n",
    "print(model.parameters)\n",
    "# ？？？？\n",
    "summary(model, input_size=[(1, 28, 28), (1, 28, 28)])      # 入力が２つあるので（ペア画像だから）input_sizeはリストで複数指定する\n",
    "\n",
    "# 最適化関数の定義\n",
    "optimizer=optim.SGD(model.parameters(), lr=0.05)\n",
    "\n",
    "# 損失関数のインスタンス化\n",
    "criterion=ContrastiveLoss()"
   ]
  },
  {
   "cell_type": "markdown",
   "metadata": {},
   "source": [
    "<font size =\"5\">学習の実行"
   ]
  },
  {
   "cell_type": "code",
   "execution_count": 14,
   "metadata": {},
   "outputs": [
    {
     "name": "stdout",
     "output_type": "stream",
     "text": [
      "epoch=0\n"
     ]
    },
    {
     "data": {
      "application/vnd.jupyter.widget-view+json": {
       "model_id": "60df3604f4494f129450a023552fa018",
       "version_major": 2,
       "version_minor": 0
      },
      "text/plain": [
       "HBox(children=(FloatProgress(value=0.0, description='Epoch 1/40', max=938.0, style=ProgressStyle(description_w…"
      ]
     },
     "metadata": {},
     "output_type": "display_data"
    },
    {
     "name": "stdout",
     "output_type": "stream",
     "text": [
      "\n",
      "nan/normal: 3/935\n",
      "epoch=1\n"
     ]
    },
    {
     "data": {
      "application/vnd.jupyter.widget-view+json": {
       "model_id": "da124c66f21140f1a3ab848c4b8d18bc",
       "version_major": 2,
       "version_minor": 0
      },
      "text/plain": [
       "HBox(children=(FloatProgress(value=0.0, description='Epoch 2/40', max=938.0, style=ProgressStyle(description_w…"
      ]
     },
     "metadata": {},
     "output_type": "display_data"
    },
    {
     "name": "stdout",
     "output_type": "stream",
     "text": [
      "\n",
      "nan/normal: 3/935\n",
      "epoch=2\n"
     ]
    },
    {
     "data": {
      "application/vnd.jupyter.widget-view+json": {
       "model_id": "51a5c8ef71b148a387743978c206e691",
       "version_major": 2,
       "version_minor": 0
      },
      "text/plain": [
       "HBox(children=(FloatProgress(value=0.0, description='Epoch 3/40', max=938.0, style=ProgressStyle(description_w…"
      ]
     },
     "metadata": {},
     "output_type": "display_data"
    },
    {
     "name": "stdout",
     "output_type": "stream",
     "text": [
      "\n",
      "nan/normal: 3/935\n",
      "epoch=3\n"
     ]
    },
    {
     "data": {
      "application/vnd.jupyter.widget-view+json": {
       "model_id": "a24f4facae4b4683a4563088fad4e3b2",
       "version_major": 2,
       "version_minor": 0
      },
      "text/plain": [
       "HBox(children=(FloatProgress(value=0.0, description='Epoch 4/40', max=938.0, style=ProgressStyle(description_w…"
      ]
     },
     "metadata": {},
     "output_type": "display_data"
    },
    {
     "name": "stdout",
     "output_type": "stream",
     "text": [
      "\n",
      "nan/normal: 3/935\n",
      "epoch=4\n"
     ]
    },
    {
     "data": {
      "application/vnd.jupyter.widget-view+json": {
       "model_id": "da54bdf98bff4fbb9a91aba3fc131899",
       "version_major": 2,
       "version_minor": 0
      },
      "text/plain": [
       "HBox(children=(FloatProgress(value=0.0, description='Epoch 5/40', max=938.0, style=ProgressStyle(description_w…"
      ]
     },
     "metadata": {},
     "output_type": "display_data"
    },
    {
     "name": "stdout",
     "output_type": "stream",
     "text": [
      "\n",
      "nan/normal: 3/935\n",
      "epoch=5\n"
     ]
    },
    {
     "data": {
      "application/vnd.jupyter.widget-view+json": {
       "model_id": "6a3d9a628dde4ff4813daad3d3432312",
       "version_major": 2,
       "version_minor": 0
      },
      "text/plain": [
       "HBox(children=(FloatProgress(value=0.0, description='Epoch 6/40', max=938.0, style=ProgressStyle(description_w…"
      ]
     },
     "metadata": {},
     "output_type": "display_data"
    },
    {
     "name": "stdout",
     "output_type": "stream",
     "text": [
      "\n",
      "nan/normal: 3/935\n",
      "epoch=6\n"
     ]
    },
    {
     "data": {
      "application/vnd.jupyter.widget-view+json": {
       "model_id": "7a59b98a3c8b4eb4bd0712820960e148",
       "version_major": 2,
       "version_minor": 0
      },
      "text/plain": [
       "HBox(children=(FloatProgress(value=0.0, description='Epoch 7/40', max=938.0, style=ProgressStyle(description_w…"
      ]
     },
     "metadata": {},
     "output_type": "display_data"
    },
    {
     "name": "stdout",
     "output_type": "stream",
     "text": [
      "\n",
      "nan/normal: 3/935\n",
      "epoch=7\n"
     ]
    },
    {
     "data": {
      "application/vnd.jupyter.widget-view+json": {
       "model_id": "0fc0169de82946228e208d30fda88b9e",
       "version_major": 2,
       "version_minor": 0
      },
      "text/plain": [
       "HBox(children=(FloatProgress(value=0.0, description='Epoch 8/40', max=938.0, style=ProgressStyle(description_w…"
      ]
     },
     "metadata": {},
     "output_type": "display_data"
    },
    {
     "name": "stdout",
     "output_type": "stream",
     "text": [
      "\n",
      "nan/normal: 3/935\n",
      "epoch=8\n"
     ]
    },
    {
     "data": {
      "application/vnd.jupyter.widget-view+json": {
       "model_id": "89b6d8edc7ef4b9a8d632ca6d353204d",
       "version_major": 2,
       "version_minor": 0
      },
      "text/plain": [
       "HBox(children=(FloatProgress(value=0.0, description='Epoch 9/40', max=938.0, style=ProgressStyle(description_w…"
      ]
     },
     "metadata": {},
     "output_type": "display_data"
    },
    {
     "name": "stdout",
     "output_type": "stream",
     "text": [
      "\n",
      "nan/normal: 3/935\n",
      "epoch=9\n"
     ]
    },
    {
     "data": {
      "application/vnd.jupyter.widget-view+json": {
       "model_id": "dc9420756deb4429b399d48b93fc6c89",
       "version_major": 2,
       "version_minor": 0
      },
      "text/plain": [
       "HBox(children=(FloatProgress(value=0.0, description='Epoch 10/40', max=938.0, style=ProgressStyle(description_…"
      ]
     },
     "metadata": {},
     "output_type": "display_data"
    },
    {
     "name": "stdout",
     "output_type": "stream",
     "text": [
      "\n",
      "nan/normal: 3/935\n",
      "epoch=10\n"
     ]
    },
    {
     "data": {
      "application/vnd.jupyter.widget-view+json": {
       "model_id": "0bc1f451c3e94e6da7f5a323849197fd",
       "version_major": 2,
       "version_minor": 0
      },
      "text/plain": [
       "HBox(children=(FloatProgress(value=0.0, description='Epoch 11/40', max=938.0, style=ProgressStyle(description_…"
      ]
     },
     "metadata": {},
     "output_type": "display_data"
    },
    {
     "ename": "KeyboardInterrupt",
     "evalue": "",
     "output_type": "error",
     "traceback": [
      "\u001b[1;31m---------------------------------------------------------------------------\u001b[0m",
      "\u001b[1;31mKeyboardInterrupt\u001b[0m                         Traceback (most recent call last)",
      "\u001b[1;32m<ipython-input-14-328ff25f8a96>\u001b[0m in \u001b[0;36m<module>\u001b[1;34m\u001b[0m\n\u001b[0;32m     14\u001b[0m \u001b[1;33m\u001b[0m\u001b[0m\n\u001b[0;32m     15\u001b[0m   \u001b[1;31m# tqdmを使って学習の進行状況を表示\u001b[0m\u001b[1;33m\u001b[0m\u001b[1;33m\u001b[0m\u001b[1;33m\u001b[0m\u001b[0m\n\u001b[1;32m---> 16\u001b[1;33m   \u001b[1;32mfor\u001b[0m \u001b[0mX1\u001b[0m\u001b[1;33m,\u001b[0m \u001b[0mX2\u001b[0m\u001b[1;33m,\u001b[0m \u001b[0my\u001b[0m \u001b[1;32min\u001b[0m \u001b[0mtqdm\u001b[0m\u001b[1;33m(\u001b[0m\u001b[0mtrain_loader\u001b[0m\u001b[1;33m,\u001b[0m \u001b[0mdesc\u001b[0m\u001b[1;33m=\u001b[0m\u001b[1;34mf\"Epoch {epoch+1}/{repeat}\"\u001b[0m\u001b[1;33m)\u001b[0m\u001b[1;33m:\u001b[0m\u001b[1;33m\u001b[0m\u001b[1;33m\u001b[0m\u001b[0m\n\u001b[0m\u001b[0;32m     17\u001b[0m     \u001b[1;31m# モデルによる特徴ベクトル算出\u001b[0m\u001b[1;33m\u001b[0m\u001b[1;33m\u001b[0m\u001b[1;33m\u001b[0m\u001b[0m\n\u001b[0;32m     18\u001b[0m     \u001b[0moutput1\u001b[0m\u001b[1;33m,\u001b[0m \u001b[0moutput2\u001b[0m \u001b[1;33m=\u001b[0m \u001b[0mmodel\u001b[0m\u001b[1;33m(\u001b[0m\u001b[0mX1\u001b[0m\u001b[1;33m.\u001b[0m\u001b[0mto\u001b[0m\u001b[1;33m(\u001b[0m\u001b[0mdevice\u001b[0m\u001b[1;33m)\u001b[0m\u001b[1;33m,\u001b[0m \u001b[0mX2\u001b[0m\u001b[1;33m.\u001b[0m\u001b[0mto\u001b[0m\u001b[1;33m(\u001b[0m\u001b[0mdevice\u001b[0m\u001b[1;33m)\u001b[0m\u001b[1;33m)\u001b[0m\u001b[1;33m\u001b[0m\u001b[1;33m\u001b[0m\u001b[0m\n",
      "\u001b[1;32m~\\anaconda3\\lib\\site-packages\\tqdm\\notebook.py\u001b[0m in \u001b[0;36m__iter__\u001b[1;34m(self, *args, **kwargs)\u001b[0m\n\u001b[0;32m    215\u001b[0m     \u001b[1;32mdef\u001b[0m \u001b[0m__iter__\u001b[0m\u001b[1;33m(\u001b[0m\u001b[0mself\u001b[0m\u001b[1;33m,\u001b[0m \u001b[1;33m*\u001b[0m\u001b[0margs\u001b[0m\u001b[1;33m,\u001b[0m \u001b[1;33m**\u001b[0m\u001b[0mkwargs\u001b[0m\u001b[1;33m)\u001b[0m\u001b[1;33m:\u001b[0m\u001b[1;33m\u001b[0m\u001b[1;33m\u001b[0m\u001b[0m\n\u001b[0;32m    216\u001b[0m         \u001b[1;32mtry\u001b[0m\u001b[1;33m:\u001b[0m\u001b[1;33m\u001b[0m\u001b[1;33m\u001b[0m\u001b[0m\n\u001b[1;32m--> 217\u001b[1;33m             \u001b[1;32mfor\u001b[0m \u001b[0mobj\u001b[0m \u001b[1;32min\u001b[0m \u001b[0msuper\u001b[0m\u001b[1;33m(\u001b[0m\u001b[0mtqdm_notebook\u001b[0m\u001b[1;33m,\u001b[0m \u001b[0mself\u001b[0m\u001b[1;33m)\u001b[0m\u001b[1;33m.\u001b[0m\u001b[0m__iter__\u001b[0m\u001b[1;33m(\u001b[0m\u001b[1;33m*\u001b[0m\u001b[0margs\u001b[0m\u001b[1;33m,\u001b[0m \u001b[1;33m**\u001b[0m\u001b[0mkwargs\u001b[0m\u001b[1;33m)\u001b[0m\u001b[1;33m:\u001b[0m\u001b[1;33m\u001b[0m\u001b[1;33m\u001b[0m\u001b[0m\n\u001b[0m\u001b[0;32m    218\u001b[0m                 \u001b[1;31m# return super(tqdm...) will not catch exception\u001b[0m\u001b[1;33m\u001b[0m\u001b[1;33m\u001b[0m\u001b[1;33m\u001b[0m\u001b[0m\n\u001b[0;32m    219\u001b[0m                 \u001b[1;32myield\u001b[0m \u001b[0mobj\u001b[0m\u001b[1;33m\u001b[0m\u001b[1;33m\u001b[0m\u001b[0m\n",
      "\u001b[1;32m~\\anaconda3\\lib\\site-packages\\tqdm\\std.py\u001b[0m in \u001b[0;36m__iter__\u001b[1;34m(self)\u001b[0m\n\u001b[0;32m   1105\u001b[0m                 fp_write=getattr(self.fp, 'write', sys.stderr.write))\n\u001b[0;32m   1106\u001b[0m \u001b[1;33m\u001b[0m\u001b[0m\n\u001b[1;32m-> 1107\u001b[1;33m         \u001b[1;32mfor\u001b[0m \u001b[0mobj\u001b[0m \u001b[1;32min\u001b[0m \u001b[0miterable\u001b[0m\u001b[1;33m:\u001b[0m\u001b[1;33m\u001b[0m\u001b[1;33m\u001b[0m\u001b[0m\n\u001b[0m\u001b[0;32m   1108\u001b[0m             \u001b[1;32myield\u001b[0m \u001b[0mobj\u001b[0m\u001b[1;33m\u001b[0m\u001b[1;33m\u001b[0m\u001b[0m\n\u001b[0;32m   1109\u001b[0m             \u001b[1;31m# Update and possibly print the progressbar.\u001b[0m\u001b[1;33m\u001b[0m\u001b[1;33m\u001b[0m\u001b[1;33m\u001b[0m\u001b[0m\n",
      "\u001b[1;32m~\\anaconda3\\lib\\site-packages\\torch\\utils\\data\\dataloader.py\u001b[0m in \u001b[0;36m__next__\u001b[1;34m(self)\u001b[0m\n\u001b[0;32m    519\u001b[0m             \u001b[1;32mif\u001b[0m \u001b[0mself\u001b[0m\u001b[1;33m.\u001b[0m\u001b[0m_sampler_iter\u001b[0m \u001b[1;32mis\u001b[0m \u001b[1;32mNone\u001b[0m\u001b[1;33m:\u001b[0m\u001b[1;33m\u001b[0m\u001b[1;33m\u001b[0m\u001b[0m\n\u001b[0;32m    520\u001b[0m                 \u001b[0mself\u001b[0m\u001b[1;33m.\u001b[0m\u001b[0m_reset\u001b[0m\u001b[1;33m(\u001b[0m\u001b[1;33m)\u001b[0m\u001b[1;33m\u001b[0m\u001b[1;33m\u001b[0m\u001b[0m\n\u001b[1;32m--> 521\u001b[1;33m             \u001b[0mdata\u001b[0m \u001b[1;33m=\u001b[0m \u001b[0mself\u001b[0m\u001b[1;33m.\u001b[0m\u001b[0m_next_data\u001b[0m\u001b[1;33m(\u001b[0m\u001b[1;33m)\u001b[0m\u001b[1;33m\u001b[0m\u001b[1;33m\u001b[0m\u001b[0m\n\u001b[0m\u001b[0;32m    522\u001b[0m             \u001b[0mself\u001b[0m\u001b[1;33m.\u001b[0m\u001b[0m_num_yielded\u001b[0m \u001b[1;33m+=\u001b[0m \u001b[1;36m1\u001b[0m\u001b[1;33m\u001b[0m\u001b[1;33m\u001b[0m\u001b[0m\n\u001b[0;32m    523\u001b[0m             \u001b[1;32mif\u001b[0m \u001b[0mself\u001b[0m\u001b[1;33m.\u001b[0m\u001b[0m_dataset_kind\u001b[0m \u001b[1;33m==\u001b[0m \u001b[0m_DatasetKind\u001b[0m\u001b[1;33m.\u001b[0m\u001b[0mIterable\u001b[0m \u001b[1;32mand\u001b[0m\u001b[0;31m \u001b[0m\u001b[0;31m\\\u001b[0m\u001b[1;33m\u001b[0m\u001b[1;33m\u001b[0m\u001b[0m\n",
      "\u001b[1;32m~\\anaconda3\\lib\\site-packages\\torch\\utils\\data\\dataloader.py\u001b[0m in \u001b[0;36m_next_data\u001b[1;34m(self)\u001b[0m\n\u001b[0;32m    559\u001b[0m     \u001b[1;32mdef\u001b[0m \u001b[0m_next_data\u001b[0m\u001b[1;33m(\u001b[0m\u001b[0mself\u001b[0m\u001b[1;33m)\u001b[0m\u001b[1;33m:\u001b[0m\u001b[1;33m\u001b[0m\u001b[1;33m\u001b[0m\u001b[0m\n\u001b[0;32m    560\u001b[0m         \u001b[0mindex\u001b[0m \u001b[1;33m=\u001b[0m \u001b[0mself\u001b[0m\u001b[1;33m.\u001b[0m\u001b[0m_next_index\u001b[0m\u001b[1;33m(\u001b[0m\u001b[1;33m)\u001b[0m  \u001b[1;31m# may raise StopIteration\u001b[0m\u001b[1;33m\u001b[0m\u001b[1;33m\u001b[0m\u001b[0m\n\u001b[1;32m--> 561\u001b[1;33m         \u001b[0mdata\u001b[0m \u001b[1;33m=\u001b[0m \u001b[0mself\u001b[0m\u001b[1;33m.\u001b[0m\u001b[0m_dataset_fetcher\u001b[0m\u001b[1;33m.\u001b[0m\u001b[0mfetch\u001b[0m\u001b[1;33m(\u001b[0m\u001b[0mindex\u001b[0m\u001b[1;33m)\u001b[0m  \u001b[1;31m# may raise StopIteration\u001b[0m\u001b[1;33m\u001b[0m\u001b[1;33m\u001b[0m\u001b[0m\n\u001b[0m\u001b[0;32m    562\u001b[0m         \u001b[1;32mif\u001b[0m \u001b[0mself\u001b[0m\u001b[1;33m.\u001b[0m\u001b[0m_pin_memory\u001b[0m\u001b[1;33m:\u001b[0m\u001b[1;33m\u001b[0m\u001b[1;33m\u001b[0m\u001b[0m\n\u001b[0;32m    563\u001b[0m             \u001b[0mdata\u001b[0m \u001b[1;33m=\u001b[0m \u001b[0m_utils\u001b[0m\u001b[1;33m.\u001b[0m\u001b[0mpin_memory\u001b[0m\u001b[1;33m.\u001b[0m\u001b[0mpin_memory\u001b[0m\u001b[1;33m(\u001b[0m\u001b[0mdata\u001b[0m\u001b[1;33m)\u001b[0m\u001b[1;33m\u001b[0m\u001b[1;33m\u001b[0m\u001b[0m\n",
      "\u001b[1;32m~\\anaconda3\\lib\\site-packages\\torch\\utils\\data\\_utils\\fetch.py\u001b[0m in \u001b[0;36mfetch\u001b[1;34m(self, possibly_batched_index)\u001b[0m\n\u001b[0;32m     42\u001b[0m     \u001b[1;32mdef\u001b[0m \u001b[0mfetch\u001b[0m\u001b[1;33m(\u001b[0m\u001b[0mself\u001b[0m\u001b[1;33m,\u001b[0m \u001b[0mpossibly_batched_index\u001b[0m\u001b[1;33m)\u001b[0m\u001b[1;33m:\u001b[0m\u001b[1;33m\u001b[0m\u001b[1;33m\u001b[0m\u001b[0m\n\u001b[0;32m     43\u001b[0m         \u001b[1;32mif\u001b[0m \u001b[0mself\u001b[0m\u001b[1;33m.\u001b[0m\u001b[0mauto_collation\u001b[0m\u001b[1;33m:\u001b[0m\u001b[1;33m\u001b[0m\u001b[1;33m\u001b[0m\u001b[0m\n\u001b[1;32m---> 44\u001b[1;33m             \u001b[0mdata\u001b[0m \u001b[1;33m=\u001b[0m \u001b[1;33m[\u001b[0m\u001b[0mself\u001b[0m\u001b[1;33m.\u001b[0m\u001b[0mdataset\u001b[0m\u001b[1;33m[\u001b[0m\u001b[0midx\u001b[0m\u001b[1;33m]\u001b[0m \u001b[1;32mfor\u001b[0m \u001b[0midx\u001b[0m \u001b[1;32min\u001b[0m \u001b[0mpossibly_batched_index\u001b[0m\u001b[1;33m]\u001b[0m\u001b[1;33m\u001b[0m\u001b[1;33m\u001b[0m\u001b[0m\n\u001b[0m\u001b[0;32m     45\u001b[0m         \u001b[1;32melse\u001b[0m\u001b[1;33m:\u001b[0m\u001b[1;33m\u001b[0m\u001b[1;33m\u001b[0m\u001b[0m\n\u001b[0;32m     46\u001b[0m             \u001b[0mdata\u001b[0m \u001b[1;33m=\u001b[0m \u001b[0mself\u001b[0m\u001b[1;33m.\u001b[0m\u001b[0mdataset\u001b[0m\u001b[1;33m[\u001b[0m\u001b[0mpossibly_batched_index\u001b[0m\u001b[1;33m]\u001b[0m\u001b[1;33m\u001b[0m\u001b[1;33m\u001b[0m\u001b[0m\n",
      "\u001b[1;32m~\\anaconda3\\lib\\site-packages\\torch\\utils\\data\\_utils\\fetch.py\u001b[0m in \u001b[0;36m<listcomp>\u001b[1;34m(.0)\u001b[0m\n\u001b[0;32m     42\u001b[0m     \u001b[1;32mdef\u001b[0m \u001b[0mfetch\u001b[0m\u001b[1;33m(\u001b[0m\u001b[0mself\u001b[0m\u001b[1;33m,\u001b[0m \u001b[0mpossibly_batched_index\u001b[0m\u001b[1;33m)\u001b[0m\u001b[1;33m:\u001b[0m\u001b[1;33m\u001b[0m\u001b[1;33m\u001b[0m\u001b[0m\n\u001b[0;32m     43\u001b[0m         \u001b[1;32mif\u001b[0m \u001b[0mself\u001b[0m\u001b[1;33m.\u001b[0m\u001b[0mauto_collation\u001b[0m\u001b[1;33m:\u001b[0m\u001b[1;33m\u001b[0m\u001b[1;33m\u001b[0m\u001b[0m\n\u001b[1;32m---> 44\u001b[1;33m             \u001b[0mdata\u001b[0m \u001b[1;33m=\u001b[0m \u001b[1;33m[\u001b[0m\u001b[0mself\u001b[0m\u001b[1;33m.\u001b[0m\u001b[0mdataset\u001b[0m\u001b[1;33m[\u001b[0m\u001b[0midx\u001b[0m\u001b[1;33m]\u001b[0m \u001b[1;32mfor\u001b[0m \u001b[0midx\u001b[0m \u001b[1;32min\u001b[0m \u001b[0mpossibly_batched_index\u001b[0m\u001b[1;33m]\u001b[0m\u001b[1;33m\u001b[0m\u001b[1;33m\u001b[0m\u001b[0m\n\u001b[0m\u001b[0;32m     45\u001b[0m         \u001b[1;32melse\u001b[0m\u001b[1;33m:\u001b[0m\u001b[1;33m\u001b[0m\u001b[1;33m\u001b[0m\u001b[0m\n\u001b[0;32m     46\u001b[0m             \u001b[0mdata\u001b[0m \u001b[1;33m=\u001b[0m \u001b[0mself\u001b[0m\u001b[1;33m.\u001b[0m\u001b[0mdataset\u001b[0m\u001b[1;33m[\u001b[0m\u001b[0mpossibly_batched_index\u001b[0m\u001b[1;33m]\u001b[0m\u001b[1;33m\u001b[0m\u001b[1;33m\u001b[0m\u001b[0m\n",
      "\u001b[1;32m<ipython-input-6-b36dbc0795e6>\u001b[0m in \u001b[0;36m__getitem__\u001b[1;34m(self, index)\u001b[0m\n\u001b[0;32m     29\u001b[0m \u001b[1;33m\u001b[0m\u001b[0m\n\u001b[0;32m     30\u001b[0m     \u001b[1;32mdef\u001b[0m \u001b[0m__getitem__\u001b[0m\u001b[1;33m(\u001b[0m\u001b[0mself\u001b[0m\u001b[1;33m,\u001b[0m \u001b[0mindex\u001b[0m\u001b[1;33m)\u001b[0m\u001b[1;33m:\u001b[0m\u001b[1;33m\u001b[0m\u001b[1;33m\u001b[0m\u001b[0m\n\u001b[1;32m---> 31\u001b[1;33m         \u001b[1;32mreturn\u001b[0m \u001b[0mself\u001b[0m\u001b[1;33m.\u001b[0m\u001b[0mdataset\u001b[0m\u001b[1;33m[\u001b[0m\u001b[0mself\u001b[0m\u001b[1;33m.\u001b[0m\u001b[0mpair_index\u001b[0m\u001b[1;33m[\u001b[0m\u001b[0mindex\u001b[0m\u001b[1;33m]\u001b[0m\u001b[1;33m[\u001b[0m\u001b[1;36m0\u001b[0m\u001b[1;33m]\u001b[0m\u001b[1;33m]\u001b[0m\u001b[1;33m[\u001b[0m\u001b[1;36m0\u001b[0m\u001b[1;33m]\u001b[0m\u001b[1;33m,\u001b[0m \u001b[0mself\u001b[0m\u001b[1;33m.\u001b[0m\u001b[0mdataset\u001b[0m\u001b[1;33m[\u001b[0m\u001b[0mself\u001b[0m\u001b[1;33m.\u001b[0m\u001b[0mpair_index\u001b[0m\u001b[1;33m[\u001b[0m\u001b[0mindex\u001b[0m\u001b[1;33m]\u001b[0m\u001b[1;33m[\u001b[0m\u001b[1;36m1\u001b[0m\u001b[1;33m]\u001b[0m\u001b[1;33m]\u001b[0m\u001b[1;33m[\u001b[0m\u001b[1;36m0\u001b[0m\u001b[1;33m]\u001b[0m\u001b[1;33m,\u001b[0m \u001b[0mtorch\u001b[0m\u001b[1;33m.\u001b[0m\u001b[0mtensor\u001b[0m\u001b[1;33m(\u001b[0m\u001b[0mself\u001b[0m\u001b[1;33m.\u001b[0m\u001b[0mpair_index\u001b[0m\u001b[1;33m[\u001b[0m\u001b[0mindex\u001b[0m\u001b[1;33m]\u001b[0m\u001b[1;33m[\u001b[0m\u001b[1;36m2\u001b[0m\u001b[1;33m]\u001b[0m\u001b[1;33m)\u001b[0m\u001b[1;33m\u001b[0m\u001b[1;33m\u001b[0m\u001b[0m\n\u001b[0m",
      "\u001b[1;32m~\\anaconda3\\lib\\site-packages\\torchvision\\datasets\\mnist.py\u001b[0m in \u001b[0;36m__getitem__\u001b[1;34m(self, index)\u001b[0m\n\u001b[0;32m    132\u001b[0m \u001b[1;33m\u001b[0m\u001b[0m\n\u001b[0;32m    133\u001b[0m         \u001b[1;32mif\u001b[0m \u001b[0mself\u001b[0m\u001b[1;33m.\u001b[0m\u001b[0mtransform\u001b[0m \u001b[1;32mis\u001b[0m \u001b[1;32mnot\u001b[0m \u001b[1;32mNone\u001b[0m\u001b[1;33m:\u001b[0m\u001b[1;33m\u001b[0m\u001b[1;33m\u001b[0m\u001b[0m\n\u001b[1;32m--> 134\u001b[1;33m             \u001b[0mimg\u001b[0m \u001b[1;33m=\u001b[0m \u001b[0mself\u001b[0m\u001b[1;33m.\u001b[0m\u001b[0mtransform\u001b[0m\u001b[1;33m(\u001b[0m\u001b[0mimg\u001b[0m\u001b[1;33m)\u001b[0m\u001b[1;33m\u001b[0m\u001b[1;33m\u001b[0m\u001b[0m\n\u001b[0m\u001b[0;32m    135\u001b[0m \u001b[1;33m\u001b[0m\u001b[0m\n\u001b[0;32m    136\u001b[0m         \u001b[1;32mif\u001b[0m \u001b[0mself\u001b[0m\u001b[1;33m.\u001b[0m\u001b[0mtarget_transform\u001b[0m \u001b[1;32mis\u001b[0m \u001b[1;32mnot\u001b[0m \u001b[1;32mNone\u001b[0m\u001b[1;33m:\u001b[0m\u001b[1;33m\u001b[0m\u001b[1;33m\u001b[0m\u001b[0m\n",
      "\u001b[1;32m~\\anaconda3\\lib\\site-packages\\torchvision\\transforms\\transforms.py\u001b[0m in \u001b[0;36m__call__\u001b[1;34m(self, img)\u001b[0m\n\u001b[0;32m     58\u001b[0m     \u001b[1;32mdef\u001b[0m \u001b[0m__call__\u001b[0m\u001b[1;33m(\u001b[0m\u001b[0mself\u001b[0m\u001b[1;33m,\u001b[0m \u001b[0mimg\u001b[0m\u001b[1;33m)\u001b[0m\u001b[1;33m:\u001b[0m\u001b[1;33m\u001b[0m\u001b[1;33m\u001b[0m\u001b[0m\n\u001b[0;32m     59\u001b[0m         \u001b[1;32mfor\u001b[0m \u001b[0mt\u001b[0m \u001b[1;32min\u001b[0m \u001b[0mself\u001b[0m\u001b[1;33m.\u001b[0m\u001b[0mtransforms\u001b[0m\u001b[1;33m:\u001b[0m\u001b[1;33m\u001b[0m\u001b[1;33m\u001b[0m\u001b[0m\n\u001b[1;32m---> 60\u001b[1;33m             \u001b[0mimg\u001b[0m \u001b[1;33m=\u001b[0m \u001b[0mt\u001b[0m\u001b[1;33m(\u001b[0m\u001b[0mimg\u001b[0m\u001b[1;33m)\u001b[0m\u001b[1;33m\u001b[0m\u001b[1;33m\u001b[0m\u001b[0m\n\u001b[0m\u001b[0;32m     61\u001b[0m         \u001b[1;32mreturn\u001b[0m \u001b[0mimg\u001b[0m\u001b[1;33m\u001b[0m\u001b[1;33m\u001b[0m\u001b[0m\n\u001b[0;32m     62\u001b[0m \u001b[1;33m\u001b[0m\u001b[0m\n",
      "\u001b[1;32m~\\anaconda3\\lib\\site-packages\\torchvision\\transforms\\transforms.py\u001b[0m in \u001b[0;36m__call__\u001b[1;34m(self, pic)\u001b[0m\n\u001b[0;32m     95\u001b[0m             \u001b[0mTensor\u001b[0m\u001b[1;33m:\u001b[0m \u001b[0mConverted\u001b[0m \u001b[0mimage\u001b[0m\u001b[1;33m.\u001b[0m\u001b[1;33m\u001b[0m\u001b[1;33m\u001b[0m\u001b[0m\n\u001b[0;32m     96\u001b[0m         \"\"\"\n\u001b[1;32m---> 97\u001b[1;33m         \u001b[1;32mreturn\u001b[0m \u001b[0mF\u001b[0m\u001b[1;33m.\u001b[0m\u001b[0mto_tensor\u001b[0m\u001b[1;33m(\u001b[0m\u001b[0mpic\u001b[0m\u001b[1;33m)\u001b[0m\u001b[1;33m\u001b[0m\u001b[1;33m\u001b[0m\u001b[0m\n\u001b[0m\u001b[0;32m     98\u001b[0m \u001b[1;33m\u001b[0m\u001b[0m\n\u001b[0;32m     99\u001b[0m     \u001b[1;32mdef\u001b[0m \u001b[0m__repr__\u001b[0m\u001b[1;33m(\u001b[0m\u001b[0mself\u001b[0m\u001b[1;33m)\u001b[0m\u001b[1;33m:\u001b[0m\u001b[1;33m\u001b[0m\u001b[1;33m\u001b[0m\u001b[0m\n",
      "\u001b[1;32m~\\anaconda3\\lib\\site-packages\\torchvision\\transforms\\functional.py\u001b[0m in \u001b[0;36mto_tensor\u001b[1;34m(pic)\u001b[0m\n\u001b[0;32m    136\u001b[0m     \u001b[0mimg\u001b[0m \u001b[1;33m=\u001b[0m \u001b[0mimg\u001b[0m\u001b[1;33m.\u001b[0m\u001b[0mpermute\u001b[0m\u001b[1;33m(\u001b[0m\u001b[1;33m(\u001b[0m\u001b[1;36m2\u001b[0m\u001b[1;33m,\u001b[0m \u001b[1;36m0\u001b[0m\u001b[1;33m,\u001b[0m \u001b[1;36m1\u001b[0m\u001b[1;33m)\u001b[0m\u001b[1;33m)\u001b[0m\u001b[1;33m.\u001b[0m\u001b[0mcontiguous\u001b[0m\u001b[1;33m(\u001b[0m\u001b[1;33m)\u001b[0m\u001b[1;33m\u001b[0m\u001b[1;33m\u001b[0m\u001b[0m\n\u001b[0;32m    137\u001b[0m     \u001b[1;32mif\u001b[0m \u001b[0misinstance\u001b[0m\u001b[1;33m(\u001b[0m\u001b[0mimg\u001b[0m\u001b[1;33m,\u001b[0m \u001b[0mtorch\u001b[0m\u001b[1;33m.\u001b[0m\u001b[0mByteTensor\u001b[0m\u001b[1;33m)\u001b[0m\u001b[1;33m:\u001b[0m\u001b[1;33m\u001b[0m\u001b[1;33m\u001b[0m\u001b[0m\n\u001b[1;32m--> 138\u001b[1;33m         \u001b[1;32mreturn\u001b[0m \u001b[0mimg\u001b[0m\u001b[1;33m.\u001b[0m\u001b[0mto\u001b[0m\u001b[1;33m(\u001b[0m\u001b[0mdtype\u001b[0m\u001b[1;33m=\u001b[0m\u001b[0mdefault_float_dtype\u001b[0m\u001b[1;33m)\u001b[0m\u001b[1;33m.\u001b[0m\u001b[0mdiv\u001b[0m\u001b[1;33m(\u001b[0m\u001b[1;36m255\u001b[0m\u001b[1;33m)\u001b[0m\u001b[1;33m\u001b[0m\u001b[1;33m\u001b[0m\u001b[0m\n\u001b[0m\u001b[0;32m    139\u001b[0m     \u001b[1;32melse\u001b[0m\u001b[1;33m:\u001b[0m\u001b[1;33m\u001b[0m\u001b[1;33m\u001b[0m\u001b[0m\n\u001b[0;32m    140\u001b[0m         \u001b[1;32mreturn\u001b[0m \u001b[0mimg\u001b[0m\u001b[1;33m\u001b[0m\u001b[1;33m\u001b[0m\u001b[0m\n",
      "\u001b[1;31mKeyboardInterrupt\u001b[0m: "
     ]
    }
   ],
   "source": [
    "import copy\n",
    "import matplotlib.pyplot as plt\n",
    "from tqdm.notebook import tqdm\n",
    "\n",
    "# モデル学習\n",
    "repeat = 40                                                       # 学習回数\n",
    "losses = []                                                       # 表示用損失値配列\n",
    "\n",
    "model.train()                                                     # 学習モード\n",
    "for epoch in range(repeat): \n",
    "  print(f\"epoch={epoch}\")\n",
    "  nan_count = 0\n",
    "  normal_count = 0\n",
    "\n",
    "  # tqdmを使って学習の進行状況を表示\n",
    "  for X1, X2, y in tqdm(train_loader, desc=f\"Epoch {epoch+1}/{repeat}\"):                                  \n",
    "    # モデルによる特徴ベクトル算出\n",
    "    output1, output2 = model(X1.to(device), X2.to(device))\n",
    "\n",
    "    # 損失関数の計算\n",
    "    loss = criterion(output1, output2, y.to(device))\n",
    "\n",
    "    # nan対策（lossにnanが含まれていれば１回前のモデルに戻す）\n",
    "    if torch.isnan(loss):\n",
    "      model = prev_model\n",
    "      optimizer = optim.SGD(model.parameters(), lr=0.05)\n",
    "      optimizer.load_state_dict(prev_optimizer.state_dict())\n",
    "      nan_count += 1\n",
    "      continue\n",
    "    else:\n",
    "      prev_model = copy.deepcopy(model)\n",
    "      prev_optimizer = copy.deepcopy(optimizer)\n",
    "      normal_count += 1\n",
    "\n",
    "    # 表示用lossデータの記録\n",
    "    losses.append(loss.item())\n",
    "\n",
    "    # 勾配を初期化\n",
    "    optimizer.zero_grad()\n",
    "    \n",
    "    # 損失関数の値から勾配を求め誤差逆伝播による学習実行\n",
    "    loss.backward()\n",
    "    \n",
    "    # 学習結果に基づきパラメータを更新\n",
    "    optimizer.step()\n",
    "\n",
    "  print(f\"nan/normal: {nan_count}/{normal_count}\")\n",
    "plt.plot(losses)                                                  # loss値の推移を表示\n"
   ]
  },
  {
   "cell_type": "markdown",
   "metadata": {},
   "source": [
    "<font size =\"5\">モデルの出力ベクトルの取得"
   ]
  },
  {
   "cell_type": "markdown",
   "metadata": {},
   "source": [
    "モデル学習の結果、同じクラスに属する画像の出力ベクトルは近くに、異なる数字に属する画像の出力ベクトルは遠くに配置されているはず。\n",
    "これを確認するために、テストデータを用いて出力ベクトルを集める。\n",
    "model.eval()で評価モードに設定し、変数の勾配も再計算されないようにtorch.no_grid()を記述する。"
   ]
  },
  {
   "cell_type": "code",
   "execution_count": null,
   "metadata": {},
   "outputs": [],
   "source": [
    "# モデル評価\n",
    "model.eval()                                                      # 評価モード\n",
    "with torch.no_grad():\n",
    "    z_test = []\n",
    "    y_test = []\n",
    "    for X, y in test_loader:                                      # テスト用DataLoader\n",
    "        z_test.append(model.forward_once(X.to(device)))           # テストデータをモデルに通して出力ベクトルを得る\n",
    "        y_test.append(y)                                          # ラベル（靴、シャツ）の代わりにラベルIDとして0～9の数代わり振られている\n",
    "    z_test = torch.cat(z_test, dim=0)                             # 多次元torch.tensor要素のリストをtorch.tensor化\n",
    "    y_test = torch.tensor(y_test)                                 # スカラ要素(int)リストをtorch.tensor化"
   ]
  },
  {
   "cell_type": "code",
   "execution_count": null,
   "metadata": {},
   "outputs": [],
   "source": [
    "# 次元数の確認\n",
    "print(z_test.size())\n",
    "print(y_test.size())"
   ]
  },
  {
   "cell_type": "markdown",
   "metadata": {},
   "source": [
    "z_testとy_testをGPUに移動"
   ]
  },
  {
   "cell_type": "code",
   "execution_count": null,
   "metadata": {},
   "outputs": [],
   "source": [
    "# GPUが利用可能かチェック\n",
    "if torch.cuda.is_available():\n",
    "    device = torch.device(\"cuda\")\n",
    "else:\n",
    "    device = torch.device(\"cpu\")\n",
    "\n",
    "# z_testとy_testをGPUに移動\n",
    "z_test = z_test.to(device)\n",
    "y_test = y_test.to(device)"
   ]
  },
  {
   "cell_type": "markdown",
   "metadata": {},
   "source": [
    "<font size=\"5\">モデル出力ベクトルの分布可視化"
   ]
  },
  {
   "cell_type": "markdown",
   "metadata": {},
   "source": [
    "32次元ベクトルを2次元二次元削減して、出力ベクトルの分布を見てみる。"
   ]
  },
  {
   "cell_type": "markdown",
   "metadata": {},
   "source": [
    "①　そのまま可視化"
   ]
  },
  {
   "cell_type": "code",
   "execution_count": null,
   "metadata": {},
   "outputs": [],
   "source": [
    "from sklearn.manifold import TSNE\n",
    "import matplotlib.pyplot as plt\n",
    "from mpl_toolkits.mplot3d import Axes3D\n",
    "\n",
    "# クラス名\n",
    "class_names = ['T-shirt/top', 'Trouser', 'Pullover', 'Dress', 'Coat', 'Sandal', 'Shirt', 'Sneaker', 'Bag', 'Ankle boot']\n",
    "# 事前に定義された10色のリスト\n",
    "colors = [\"blue\",\"green\",\"red\",\"cyan\",\"magenta\",\"yellow\",\"black\",'#f781bf','#a65628','#ff7f00']\n",
    "\n",
    "def plot_tsne_interactive(x, y, dimension=3):\n",
    "    # tsne = TSNE(n_components=dimension)\n",
    "    tsne = TSNE(n_components=dimension, random_state = 0, perplexity = 30, n_iter = 1000)\n",
    "    x_embedded = tsne.fit_transform(x)\n",
    "    # print(x_embedded.size())\n",
    "    \n",
    "    plt.figure(figsize=(13, 10))\n",
    "    if dimension == 3:\n",
    "        ax = plt.subplot(111, projection='3d')\n",
    "        for i in range(10):  # クラスごとに色を分けてプロット\n",
    "            # 正距方位図法へ写像するプログラムを追加\n",
    "            \n",
    "            ax.scatter(x_embedded[y == i, 0], x_embedded[y == i, 1], x_embedded[y == i, 2], color=colors[i], label=class_names[i])\n",
    "        ax.legend()  # 凡例の追加\n",
    "    else:\n",
    "        for i in range(10):  # クラスごとに色を分けてプロット\n",
    "            plt.scatter(x_embedded[y == i, 0], x_embedded[y == i, 1], color=colors[i], label=class_names[i])\n",
    "        plt.legend()  # 凡例の追加\n",
    "    \n",
    "    plt.show()\n",
    "\n",
    "\n",
    "# t-SNEによるベクトル分布表示\n",
    "z_test_np = z_test.to('cpu').detach().numpy().copy()\n",
    "y_test_np = y_test.to('cpu').detach().numpy().copy()\n",
    "plot_tsne_interactive(z_test_np, y_test_np, dimension=3)\n",
    "\n"
   ]
  },
  {
   "cell_type": "markdown",
   "metadata": {},
   "source": [
    "②　ノイズクラスタリングを各クラスに適応してクラス中心を算出"
   ]
  },
  {
   "cell_type": "code",
   "execution_count": null,
   "metadata": {},
   "outputs": [],
   "source": [
    "# a=np.zeros((10, 3))\n",
    "# cent=np.zeros((10,3))\n",
    "# print(a.shape)\n",
    "# a[0]=[1,2,3]\n",
    "# a[3]=[10,0,20]\n",
    "# print(a)\n",
    "# cent[1]=np.mean(a, axis=0)\n",
    "# print(cent)"
   ]
  },
  {
   "cell_type": "code",
   "execution_count": null,
   "metadata": {},
   "outputs": [],
   "source": [
    "from sklearn.cluster import DBSCAN\n",
    "def plot_tsne_interactive(x, y, dimension=3):\n",
    "    cluster_num=10\n",
    "    # tsne = TSNE(n_components=dimension)\n",
    "    tsne = TSNE(n_components=dimension, random_state = 0, perplexity = 30, n_iter = 1000)\n",
    "    x_embedded = tsne.fit_transform(x)\n",
    "    centroid=np.zeros((cluster_num, dimension))\n",
    "    plt.figure(figsize=(13, 10))\n",
    "    if dimension == 3:\n",
    "        ax = plt.subplot(111, projection='3d')\n",
    "        for i in range(cluster_num):  # クラスごとに色を分けてプロット\n",
    "            # DBSCANを適用する\n",
    "            dbscan = DBSCAN(eps=2, min_samples=2)\n",
    "            dbscan.fit(x_embedded)\n",
    "            # 欠損値の削除\n",
    "            data=x_embedded[y==i]\n",
    "            new_data=data[~np.isnan(data).any(axis=1)]\n",
    "            print(\"欠損値削除前の形状\", data.shape)\n",
    "            print(\"欠損値削除後の形状\", new_data.shape)\n",
    "            centroid[i]=np.mean(new_data, axis=0)\n",
    "            print(\"目的クラスの重心：\\n\", centroid)\n",
    "            ax.scatter(x_embedded[y == i, 0], x_embedded[y == i, 1], x_embedded[y == i, 2], color=colors[i], label=class_names[i])\n",
    "        ax.legend()  # 凡例の追加\n",
    "    plt.show()\n",
    "    return centroid\n",
    "\n",
    "\n",
    "# t-SNEによるベクトル分布表示\n",
    "z_test_np = z_test.to('cpu').detach().numpy().copy()\n",
    "y_test_np = y_test.to('cpu').detach().numpy().copy()\n",
    "cluster_center=plot_tsne_interactive(z_test_np, y_test_np, dimension=3)"
   ]
  },
  {
   "cell_type": "code",
   "execution_count": null,
   "metadata": {},
   "outputs": [],
   "source": [
    "print(cluster_center.shape)\n",
    "print(cluster_center)"
   ]
  },
  {
   "cell_type": "code",
   "execution_count": null,
   "metadata": {},
   "outputs": [],
   "source": [
    "# 重心算出結果の確認\n",
    "import matplotlib.pyplot as plt\n",
    "from mpl_toolkits.mplot3d import Axes3D  # 3Dプロットを行うためのモジュール\n",
    "\n",
    "\n",
    "# プロットの設定\n",
    "fig = plt.figure()\n",
    "ax = fig.add_subplot(111, projection='3d')  # 3Dプロットを設定\n",
    "\n",
    "# データをプロット\n",
    "for i in range(10):\n",
    "    x, y, z = cluster_center[i]  # 三次元座標を取得\n",
    "    ax.scatter(x, y, z, marker='*', s=100, label=f'Class {i+1}')\n",
    "\n",
    "# 軸ラベルを設定\n",
    "ax.set_xlabel('X軸')\n",
    "ax.set_ylabel('Y軸')\n",
    "ax.set_zlabel('Z軸')\n",
    "\n",
    "# グラフのタイトルと凡例を設定\n",
    "ax.set_title('3D Scatter Plot')\n",
    "ax.legend()\n",
    "\n",
    "# グラフを表示\n",
    "plt.show()"
   ]
  },
  {
   "cell_type": "markdown",
   "metadata": {},
   "source": [
    "③　単位球面上に射影(算出した重心も同じ処理をする)＋可視化"
   ]
  },
  {
   "cell_type": "code",
   "execution_count": null,
   "metadata": {},
   "outputs": [],
   "source": [
    "tsne = TSNE(n_components=3, random_state = 0, perplexity = 30, n_iter = 1000)\n",
    "x_embedded = tsne.fit_transform(z_test_np)\n",
    "print(x_embedded.shape)\n",
    "# print(x_embedded)"
   ]
  },
  {
   "cell_type": "code",
   "execution_count": null,
   "metadata": {},
   "outputs": [],
   "source": [
    "def norm(data):\n",
    "#     print(\"in\")\n",
    "    norm_data=data.copy()\n",
    "    # dataの形\n",
    "#     print(data.shape)\n",
    "#     print(data[0].shape)\n",
    "    for i in range(len(data)):\n",
    "        norm_data[i]=data[i]/np.linalg.norm(data[i], ord=2)\n",
    "#     print(norm_data)\n",
    "#     print(\"out\")\n",
    "    return norm_data\n",
    "\n",
    "# print(x_embedded)\n",
    "y=y_test_np\n",
    "print(x_embedded[y==1].shape)\n",
    "a=norm(x_embedded[y==1])\n",
    "print(a)\n",
    "print(a.shape)\n",
    "print(a[:, 0].shape)\n",
    "\n",
    "fig = plt.figure()\n",
    "ax = fig.add_subplot(111, projection='3d')\n",
    "\n",
    "# すべての点をプロット\n",
    "ax.scatter(a[:, 0], a[:, 1], a[:, 2], marker='o')  # 'o'は点を表す\n",
    "# ax.set_xlim(-1, 1)  # x軸の範囲を設定\n",
    "# ax.set_ylim(-1, 1)  # y軸の範囲を設定\n",
    "# ax.set_zlim(-1, 1)  # z軸の範囲を設定\n",
    "\n",
    "# グラフを表示\n",
    "plt.show()"
   ]
  },
  {
   "cell_type": "code",
   "execution_count": null,
   "metadata": {},
   "outputs": [],
   "source": [
    "# 算出したセンターの単位球上への写像\n",
    "norm_cluster_center=norm(cluster_center)\n",
    "print(norm_cluster_center)\n",
    "\n",
    "# プロットの設定\n",
    "fig = plt.figure()\n",
    "ax = fig.add_subplot(111, projection='3d')  # 3Dプロットを設定\n",
    "\n",
    "# データをプロット\n",
    "for i in range(10):\n",
    "    x, y, z = norm_cluster_center[i]  # 三次元座標を取得\n",
    "    ax.scatter(x, y, z, marker='*', s=100, label=f'Class {i+1}')\n",
    "\n",
    "# 軸ラベルを設定\n",
    "ax.set_xlabel('X軸')\n",
    "ax.set_ylabel('Y軸')\n",
    "ax.set_zlabel('Z軸')\n",
    "\n",
    "# グラフのタイトルと凡例を設定\n",
    "ax.set_title('3D Scatter Plot')\n",
    "ax.legend()\n",
    "\n",
    "# グラフを表示\n",
    "plt.show()"
   ]
  },
  {
   "cell_type": "code",
   "execution_count": null,
   "metadata": {},
   "outputs": [],
   "source": [
    "# 球体のパラメータ\n",
    "radius = 1\n",
    "phi = np.linspace(0, np.pi, 100)  # 緯度角の範囲\n",
    "theta = np.linspace(0, 2 * np.pi, 100)  # 経度角の範囲\n",
    "\n",
    "# 球体の座標を計算\n",
    "phi, theta = np.meshgrid(phi, theta)\n",
    "x = radius * np.sin(phi) * np.cos(theta)\n",
    "y = radius * np.sin(phi) * np.sin(theta)\n",
    "z = radius * np.cos(phi)\n",
    "\n",
    "# 3Dプロットを作成\n",
    "fig = plt.figure()\n",
    "ax = fig.add_subplot(111, projection='3d')\n",
    "\n",
    "# 球体をプロット\n",
    "ax.plot_surface(x, y, z, color='w', alpha=0.6)\n",
    "# データをプロット\n",
    "for i in range(10):\n",
    "    x, y, z = norm_cluster_center[i]  # 三次元座標を取得\n",
    "    ax.scatter(x, y, z, marker='*', s=100, label=f'Class {i+1}')\n",
    "\n",
    "# グラフをカスタマイズ\n",
    "ax.set_xlabel('X軸')\n",
    "ax.set_ylabel('Y軸')\n",
    "ax.set_zlabel('Z軸')\n",
    "ax.set_title('立体的な球体のプロット')\n",
    "\n",
    "# グラフを表示\n",
    "plt.show()"
   ]
  },
  {
   "cell_type": "code",
   "execution_count": null,
   "metadata": {},
   "outputs": [],
   "source": [
    "# 球体のパラメータ\n",
    "radius = 1\n",
    "phi = np.linspace(0, np.pi, 100)  # 緯度角の範囲\n",
    "theta = np.linspace(0, 2 * np.pi, 100)  # 経度角の範囲\n",
    "\n",
    "# 球体の座標を計算\n",
    "phi, theta = np.meshgrid(phi, theta)\n",
    "x = radius * np.sin(phi) * np.cos(theta)\n",
    "y = radius * np.sin(phi) * np.sin(theta)\n",
    "z = radius * np.cos(phi)\n",
    "\n",
    "# 3Dプロットを作成\n",
    "fig = plt.figure()\n",
    "ax = fig.add_subplot(111, projection='3d')\n",
    "\n",
    "# 球体をプロット\n",
    "ax.plot_surface(x, y, z, color='w', alpha=0.6)\n",
    "# データをプロット\n",
    "for i in range(10):\n",
    "    x, y, z = cluster_center[i]  # 三次元座標を取得\n",
    "    ax.scatter(x, y, z, marker='*', s=100, label=f'Class {i+1}')\n",
    "\n",
    "# グラフをカスタマイズ\n",
    "ax.set_xlabel('X軸')\n",
    "ax.set_ylabel('Y軸')\n",
    "ax.set_zlabel('Z軸')\n",
    "ax.set_title('立体的な球体のプロット')\n",
    "\n",
    "# グラフを表示\n",
    "plt.show()"
   ]
  },
  {
   "cell_type": "code",
   "execution_count": null,
   "metadata": {},
   "outputs": [],
   "source": [
    "# 正規化関数\n",
    "def norm(data):\n",
    "    print(\"in\")\n",
    "    norm_data=data.copy()\n",
    "    # dataの形\n",
    "    print(data.shape)\n",
    "    print(data[0].shape)\n",
    "    for i in range(len(data)):\n",
    "        norm_data[i]=data[i]/np.linalg.norm(data[i], ord=2)\n",
    "#     print(norm_data)\n",
    "    print(\"out\")\n",
    "    return norm_data\n",
    "\n",
    "def plot_tsne_interactive(x, y, dimension=3):\n",
    "    cluster_num=10\n",
    "    # tsne = TSNE(n_components=dimension)\n",
    "    tsne = TSNE(n_components=dimension, random_state = 0, perplexity = 30, n_iter = 1000)\n",
    "    x_embedded = tsne.fit_transform(x)\n",
    "    centroid=np.zeros((cluster_num, dimension))\n",
    "    plt.figure(figsize=(13, 10))\n",
    "    if dimension == 3:\n",
    "        ax = plt.subplot(111, projection='3d')\n",
    "        for i in range(10):  # クラスごとに色を分けてプロット\n",
    "            # 単位球面上に射影\n",
    "            norm_data=norm(x_embedded[y==i])\n",
    "            print(norm_data)\n",
    "            print(norm_data.shape)\n",
    "            ax.scatter(norm_data[:, 0], norm_data[:, 1], norm_data[:, 2], color=colors[i], label=class_names[i])\n",
    "        ax.legend()  # 凡例の追加\n",
    "    plt.show()\n",
    "    return centroid\n",
    "\n",
    "\n",
    "# t-SNEによるベクトル分布表示\n",
    "z_test_np = z_test.to('cpu').detach().numpy().copy()\n",
    "y_test_np = y_test.to('cpu').detach().numpy().copy()\n",
    "cluster_center=plot_tsne_interactive(z_test_np, y_test_np, dimension=3)"
   ]
  },
  {
   "cell_type": "code",
   "execution_count": null,
   "metadata": {},
   "outputs": [],
   "source": [
    "# def project_to_unit_sphere(x, y, z):\n",
    "#     \"\"\"\n",
    "#     Projects the 3D coordinates (x, y, z) onto the unit sphere.\n",
    "#     \"\"\"\n",
    "#     distance = np.sqrt(x**2 + y**2 + z**2)\n",
    "#     normalized_x = x / distance\n",
    "#     normalized_y = y / distance\n",
    "#     normalized_z = z / distance\n",
    "#     return normalized_x, normalized_y, normalized_z\n",
    "\n",
    "\n",
    "\n",
    "# # # 重心を計算する\n",
    "# def calc_cen(points):\n",
    "#     print(\"クラスのデータ\")\n",
    "#     print(points.shape)\n",
    "#     # 各座標の合計を計算\n",
    "#     centroid = np.mean(points, axis=0)\n",
    "# #     print(centroid.shape)\n",
    "# #     print(centroid) #[-0.73519397 -0.47938463  0.15791151]\n",
    "#     return centroid\n",
    "\n",
    "\n",
    "# def move(points):\n",
    "#     print(points.shape)\n",
    "#     print(points[0].shape)\n",
    "#     # 重心座標を計算\n",
    "#     centroid = calc_cen(points)\n",
    "#     print(centroid)\n",
    "\n",
    "#     # 重心座標を原点として平行移動\n",
    "#     goal=np.array([0,0,1])\n",
    "#     vecter=goal-centroid\n",
    "#     print(\"vecter:\",vecter)\n",
    "#     translated_points = points + vecter\n",
    "#     print(\"points:\",points[0])\n",
    "#     print(\"translated_points:\", translated_points[0])\n",
    "#     data=norm(translated_points)\n",
    "#     return data\n",
    "\n",
    "\n",
    "# # 正規化関数\n",
    "# def norm(data):\n",
    "#     print(\"in\")\n",
    "#     norm_data=data.copy()\n",
    "#     # dataの形\n",
    "# #     print(data.shape)\n",
    "#     for i in range(len(data)):\n",
    "#         norm_data[i]=data[i]/np.linalg.norm(data[i])\n",
    "# #     print(norm_data)\n",
    "#     print(\"out\")\n",
    "#     return norm_data\n",
    "\n",
    "# def plot_tsne_interactive(x, y, dimension=3):\n",
    "#     cluster_num=10\n",
    "#     # tsne = TSNE(n_components=dimension)\n",
    "#     tsne = TSNE(n_components=dimension, random_state = 0, perplexity = 30, n_iter = 1000)\n",
    "#     x_embedded = tsne.fit_transform(x)\n",
    "#     centroid=np.zeros((cluster_num, dimension))\n",
    "#     plt.figure(figsize=(13, 10))\n",
    "#     if dimension == 3:\n",
    "#         ax = plt.subplot(111, projection='3d')\n",
    "#         for i in range(cluster_num):  # クラスごとに色を分けてプロット\n",
    "#             # DBSCANを適用する\n",
    "#             dbscan = DBSCAN(eps=2, min_samples=2)\n",
    "#             dbscan.fit(x_embedded)\n",
    "#             data=x_embedded[y==i]\n",
    "#             new_data=data[~np.isnan(data).any(axis=1)]\n",
    "#             centroid[i]=np.mean(new_data, axis=0)\n",
    "#             ax.scatter(x_embedded[y == i, 0], x_embedded[y == i, 1], x_embedded[y == i, 2], color=colors[i], label=class_names[i])\n",
    "#         ax.legend()  # 凡例の追加\n",
    "#     plt.show()\n",
    "#     return centroid\n",
    "\n",
    "\n",
    "# # t-SNEによるベクトル分布表示\n",
    "# # GPU上でのテンソルをNumPy配列に変換し、CPUにコピー\n",
    "# z_test_np = z_test.cpu().detach().numpy().copy()\n",
    "# y_test_np = y_test.cpu().detach().numpy().copy()\n",
    "# plot_tsne_interactive(z_test_np, y_test_np, dimension=3)"
   ]
  },
  {
   "cell_type": "markdown",
   "metadata": {},
   "source": [
    "④　データの回転"
   ]
  },
  {
   "cell_type": "code",
   "execution_count": null,
   "metadata": {},
   "outputs": [],
   "source": [
    "# 回転行列を計算する関数\n",
    "def rotation_matrix(axis, theta):\n",
    "    axis = np.asarray(axis)\n",
    "    axis /= np.linalg.norm(axis)\n",
    "    a = np.cos(theta / 2.0)\n",
    "    b, c, d = -axis * np.sin(theta / 2.0)\n",
    "    aa, bb, cc, dd = a * a, b * b, c * c, d * d\n",
    "    bc, ad, ac, ab, bd, cd = b * c, a * d, a * c, a * b, b * d, c * d\n",
    "    return np.array([[aa + bb - cc - dd, 2 * (bc + ad), 2 * (bd - ac)],\n",
    "                     [2 * (bc - ad), aa + cc - bb - dd, 2 * (cd + ab)],\n",
    "                     [2 * (bd + ac), 2 * (cd - ab), aa + dd - bb - cc]])\n",
    "\n",
    "\n",
    "def plot_tsne_interactive(x, y, dimension=3):\n",
    "    cluster_num=10\n",
    "    # tsne = TSNE(n_components=dimension)\n",
    "    tsne = TSNE(n_components=dimension, random_state = 0, perplexity = 30, n_iter = 1000)\n",
    "    x_embedded = tsne.fit_transform(x)\n",
    "    centroid=np.zeros((cluster_num, dimension))\n",
    "    plt.figure(figsize=(13, 10))\n",
    "    if dimension == 3:\n",
    "        ax = plt.subplot(111, projection='3d')\n",
    "        for i in range(1):  # クラスごとに色を分けてプロット\n",
    "            # 単位球面上に射影\n",
    "            norm_data=norm(x_embedded[y==i])\n",
    "            # 回転\n",
    "            # 回転させるベクトル\n",
    "            vector = np.array([-0.9687773, 0.07260493, -0.23706354])\n",
    "            # x 軸周りの回転角度（ラジアン）を計算\n",
    "            # 目標ベクトルが [0, 0, 1] になるように回転するために必要な角度を求める\n",
    "            target_vector = np.array([0, 0, 1])\n",
    "            cos_theta = np.dot(vector, target_vector) / (np.linalg.norm(vector) * np.linalg.norm(target_vector))\n",
    "            theta = np.arccos(cos_theta)\n",
    "            # x 軸を中心に回転行列を計算\n",
    "            rotation_axis = [1, 0, 0]\n",
    "            rotation_matrix_x = rotation_matrix(rotation_axis, theta)\n",
    "\n",
    "            # ベクトルを回転\n",
    "#             rotated_vector = np.dot(rotation_matrix_x, vector)\n",
    "            rotated_vector = np.dot(rotation_matrix_x, norm_data)\n",
    "            print(rotated_vector.shape)\n",
    "#             ax.scatter(norm_data[:, 0], norm_data[:, 1], norm_data[:, 2], color=colors[i], label=class_names[i])\n",
    "            ax.scatter(rotated_vector[:, 0], rotated_vector[:, 1], rotated_vector[:, 2], color=colors[i], label=class_names[i])\n",
    "        ax.legend()  # 凡例の追加\n",
    "    plt.show()\n",
    "    return centroid\n",
    "\n",
    "\n",
    "# t-SNEによるベクトル分布表示\n",
    "z_test_np = z_test.to('cpu').detach().numpy().copy()\n",
    "y_test_np = y_test.to('cpu').detach().numpy().copy()\n",
    "cluster_center=plot_tsne_interactive(z_test_np, y_test_np, dimension=3)"
   ]
  },
  {
   "cell_type": "code",
   "execution_count": null,
   "metadata": {},
   "outputs": [],
   "source": [
    "from sklearn.manifold import TSNE\n",
    "import matplotlib.pyplot as plt\n",
    "from mpl_toolkits.mplot3d import Axes3D\n",
    "\n",
    "\n",
    "def azimuthal_equidistant_projection(x, y, z):\n",
    "    \"\"\"\n",
    "    Convert the 3D Cartesian coordinates (x, y, z) to 2D coordinates (x', y') using \n",
    "    the Azimuthal Equidistant Projection.\n",
    "    \n",
    "    :param x: x-coordinate in 3D space\n",
    "    :param y: y-coordinate in 3D space\n",
    "    :param z: z-coordinate in 3D space\n",
    "    :return: (x', y') 2D coordinates\n",
    "    \"\"\"\n",
    "    # Convert Cartesian coordinates to spherical coordinates\n",
    "    rho = np.sqrt(x**2 + y**2 + z**2)\n",
    "    theta = np.arccos(z / rho)\n",
    "    phi = np.arctan2(y, x)\n",
    "    \n",
    "    # Convert spherical coordinates to 2D plane using azimuthal equidistant projection\n",
    "    x_prime = rho * np.sin(theta) * np.cos(phi)\n",
    "    y_prime = rho * np.sin(theta) * np.sin(phi)\n",
    "    \n",
    "    return x_prime, y_prime\n",
    "    \n",
    "\n",
    "def plot_tsne_interactive(x, y, dimension=3):\n",
    "    # tsne = TSNE(n_components=dimension)\n",
    "    tsne = TSNE(n_components=dimension, random_state = 0, perplexity = 30, n_iter = 1000)\n",
    "    x_embedded = tsne.fit_transform(x)\n",
    "    # print(x_embedded.shape)\n",
    "    \n",
    "    plt.figure(figsize=(13, 10))\n",
    "    if dimension == 3:\n",
    "        for i in range(1):  # クラスごとに色を分けてプロット\n",
    "            data_1=norm(x_embedded)\n",
    "            # 目的クラスの中心を計算,中心をもとに座標データを平行移動\n",
    "            data_2=move(data_1[y==i])\n",
    "#             x_new, y_new= project_3d_to_2d_on_unit_circle(data_2[:, 0], data_2[:,1], data_2[:, 2])\n",
    "            x_new, y_new= azimuthal_equidistant_projection(data_2[:, 0], data_2[:,1], data_2[:, 2])\n",
    "            plt.scatter(x_new, y_new, color=colors[i], label=class_names[i])\n",
    "        ax.legend()  # 凡例の追加\n",
    "    else:\n",
    "        for i in range(10):  # クラスごとに色を分けてプロット\n",
    "            plt.scatter(x_embedded[y == i, 0], x_embedded[y == i, 1], color=colors[i], label=class_names[i])\n",
    "        plt.legend()  # 凡例の追加\n",
    "        \n",
    "    plt.show()\n",
    "\n",
    "\n",
    "# t-SNEによるベクトル分布表示\n",
    "# GPU上でのテンソルをNumPy配列に変換し、CPUにコピー\n",
    "z_test_np = z_test.cpu().detach().numpy().copy()\n",
    "y_test_np = y_test.cpu().detach().numpy().copy()\n",
    "plot_tsne_interactive(z_test_np, y_test_np, dimension=3)"
   ]
  },
  {
   "cell_type": "markdown",
   "metadata": {},
   "source": [
    "⑤　二次元空間での可視化"
   ]
  },
  {
   "cell_type": "code",
   "execution_count": null,
   "metadata": {},
   "outputs": [],
   "source": [
    "# クラス名\n",
    "class_names = ['T-shirt/top', 'Trouser', 'Pullover', 'Dress', 'Coat', 'Sandal', 'Shirt', 'Sneaker', 'Bag', 'Ankle boot']\n",
    "# 事前に定義された10色のリスト\n",
    "colors = [\"blue\",\"green\",\"red\",\"cyan\",\"magenta\",\"yellow\",\"black\",'#f781bf','#a65628','#ff7f00']\n",
    "\n",
    "# 正距方位図法への写像\n",
    "def project_to_unit_sphere(x, y, z):\n",
    "    \"\"\"\n",
    "    Projects the 3D coordinates (x, y, z) onto the unit sphere.\n",
    "    \"\"\"\n",
    "    distance = np.sqrt(x**2 + y**2 + z**2)\n",
    "    normalized_x = x / distance\n",
    "    normalized_y = y / distance\n",
    "    normalized_z = z / distance\n",
    "    return normalized_x, normalized_y, normalized_z\n",
    "\n",
    "def project_3d_to_2d_on_unit_circle(x, y, z):\n",
    "    \"\"\"\n",
    "    Projects 3D coordinates (x, y, z) first onto the unit sphere \n",
    "    and then using Equidistant Cylindrical Projection onto the 2D plane.\n",
    "    Assumes viewing from above the z-axis after the projection onto the unit sphere.\n",
    "    \"\"\"\n",
    "    # Project onto unit sphere\n",
    "    normalized_x, normalized_y, normalized_z = project_to_unit_sphere(x, y, z)\n",
    "    # Project onto 2D plane using equidistant cylindrical projection\n",
    "    # projected_x, projected_y = project_to_equidistant_cylindrical(normalized_x, normalized_y, normalized_z)\n",
    "    return normalized_x, normalized_y\n",
    "    # return projected_x, projected_y\n",
    "\n",
    "def azimuthal_equidistant_projection(x, y, z):\n",
    "    \"\"\"\n",
    "    Convert the 3D Cartesian coordinates (x, y, z) to 2D coordinates (x', y') using \n",
    "    the Azimuthal Equidistant Projection.\n",
    "    \n",
    "    :param x: x-coordinate in 3D space\n",
    "    :param y: y-coordinate in 3D space\n",
    "    :param z: z-coordinate in 3D space\n",
    "    :return: (x', y') 2D coordinates\n",
    "    \"\"\"\n",
    "    # Convert Cartesian coordinates to spherical coordinates\n",
    "    rho = np.sqrt(x**2 + y**2 + z**2)\n",
    "    theta = np.arccos(z / rho)\n",
    "    phi = np.arctan2(y, x)\n",
    "    \n",
    "    # Convert spherical coordinates to 2D plane using azimuthal equidistant projection\n",
    "    x_prime = rho * np.sin(theta) * np.cos(phi)\n",
    "    y_prime = rho * np.sin(theta) * np.sin(phi)\n",
    "    \n",
    "    return x_prime, y_prime\n",
    "\n",
    "    \n",
    "\n",
    "def plot_tsne_interactive(x, y, dimension=3):\n",
    "    # tsne = TSNE(n_components=dimension)\n",
    "    tsne = TSNE(n_components=dimension, random_state = 0, perplexity = 30, n_iter = 1000)\n",
    "    x_embedded = tsne.fit_transform(x)\n",
    "    # print(x_embedded.shape)\n",
    "    \n",
    "    plt.figure(figsize=(5, 5))\n",
    "    if dimension == 3:\n",
    "        # ax = plt.subplot(111, projection='2d')\n",
    "        # # axをfigureに設定する\n",
    "        # # ax = fig.add_subplot(1, 1, 1)\n",
    "        for i in range(10):  # クラスごとに色を分けてプロット\n",
    "            # 正距方位図法へ写像するプログラムを追加\n",
    "            # 1、正規化\n",
    "            x_1, y_1, z_1 = project_to_unit_sphere(x_embedded[y==i,0], x_embedded[y==i,1], x_embedded[y==i,2])\n",
    "            # 2、正距方位図法空間へ写像\n",
    "            x_new, y_new= azimuthal_equidistant_projection(x_1, y_1, z_1)\n",
    "            plt.scatter(x_new, y_new, color=colors[i], label=class_names[i])\n",
    "        ax.legend()  # 凡例の追加\n",
    "    else:\n",
    "        for i in range(10):  # クラスごとに色を分けてプロット\n",
    "            plt.scatter(x_embedded[y == i, 0], x_embedded[y == i, 1], color=colors[i], label=class_names[i])\n",
    "        plt.legend()  # 凡例の追加\n",
    "        \n",
    "    plt.show()\n",
    "\n",
    "\n",
    "# t-SNEによるベクトル分布表示\n",
    "# GPU上でのテンソルをNumPy配列に変換し、CPUにコピー\n",
    "z_test_np = z_test.cpu().detach().numpy().copy()\n",
    "y_test_np = y_test.cpu().detach().numpy().copy()\n",
    "plot_tsne_interactive(z_test_np, y_test_np, dimension=3)"
   ]
  },
  {
   "cell_type": "code",
   "execution_count": null,
   "metadata": {},
   "outputs": [],
   "source": [
    "# クラス名\n",
    "class_names = ['T-shirt/top', 'Trouser', 'Pullover', 'Dress', 'Coat', 'Sandal', 'Shirt', 'Sneaker', 'Bag', 'Ankle boot']\n",
    "# 事前に定義された10色のリスト\n",
    "colors = [\"blue\",\"green\",\"red\",\"cyan\",\"magenta\",\"yellow\",\"black\",'#f781bf','#a65628','#ff7f00']\n",
    "\n",
    "# 正距方位図法への写像\n",
    "def project_to_unit_sphere(x, y, z):\n",
    "    \"\"\"\n",
    "    Projects the 3D coordinates (x, y, z) onto the unit sphere.\n",
    "    \"\"\"\n",
    "    distance = np.sqrt(x**2 + y**2 + z**2)\n",
    "    normalized_x = x / distance\n",
    "    normalized_y = y / distance\n",
    "    normalized_z = z / distance\n",
    "    return normalized_x, normalized_y, normalized_z\n",
    "\n",
    "def project_3d_to_2d_on_unit_circle(x, y, z):\n",
    "    \"\"\"\n",
    "    Projects 3D coordinates (x, y, z) first onto the unit sphere \n",
    "    and then using Equidistant Cylindrical Projection onto the 2D plane.\n",
    "    Assumes viewing from above the z-axis after the projection onto the unit sphere.\n",
    "    \"\"\"\n",
    "    # Project onto unit sphere\n",
    "    normalized_x, normalized_y, normalized_z = project_to_unit_sphere(x, y, z)\n",
    "    # Project onto 2D plane using equidistant cylindrical projection\n",
    "    # projected_x, projected_y = project_to_equidistant_cylindrical(normalized_x, normalized_y, normalized_z)\n",
    "    return normalized_x, normalized_y\n",
    "    # return projected_x, projected_y\n",
    "\n",
    "def azimuthal_equidistant_projection(x, y, z):\n",
    "    \"\"\"\n",
    "    Convert the 3D Cartesian coordinates (x, y, z) to 2D coordinates (x', y') using \n",
    "    the Azimuthal Equidistant Projection.\n",
    "    \n",
    "    :param x: x-coordinate in 3D space\n",
    "    :param y: y-coordinate in 3D space\n",
    "    :param z: z-coordinate in 3D space\n",
    "    :return: (x', y') 2D coordinates\n",
    "    \"\"\"\n",
    "    # Convert Cartesian coordinates to spherical coordinates\n",
    "    rho = np.sqrt(x**2 + y**2 + z**2)\n",
    "    theta = np.arccos(z / rho)\n",
    "    phi = np.arctan2(y, x)\n",
    "    \n",
    "    # Convert spherical coordinates to 2D plane using azimuthal equidistant projection\n",
    "    x_prime = rho * np.sin(theta) * np.cos(phi)\n",
    "    y_prime = rho * np.sin(theta) * np.sin(phi)\n",
    "    \n",
    "    return x_prime, y_prime\n",
    "\n",
    "# # 重心を計算する\n",
    "def calculate_centroid_numpy(points):\n",
    "#     print(points.shape)\n",
    "    # 各座標の合計を計算\n",
    "    centroid = np.mean(points, axis=0)\n",
    "#     print(centroid.shape)\n",
    "    print(centroid)\n",
    "\n",
    "    return centroid\n",
    "\n",
    "def translate_points_to_origin_numpy(points):\n",
    "    print(points[0])\n",
    "    # 重心座標を計算\n",
    "    centroid = calculate_centroid_numpy(points)\n",
    "\n",
    "    # 重心座標を原点として平行移動\n",
    "    translated_points = points - centroid\n",
    "    print(translated_points[0])\n",
    "    return translated_points\n",
    "\n",
    "# 判別手法\n",
    "def plot_tsne_interactive(x, y, dimension=3):\n",
    "    # tsne = TSNE(n_components=dimension)\n",
    "    tsne = TSNE(n_components=dimension, random_state = 0, perplexity = 30, n_iter = 1000)\n",
    "    x_embedded = tsne.fit_transform(x)\n",
    "    print(x_embedded.shape)\n",
    "    \n",
    "    plt.figure(figsize=(5, 5))\n",
    "    if dimension == 3:\n",
    "        for i in range(1):  # クラスごとに色を分けてプロット\n",
    "            # 1, 正規化\n",
    "            plt.scatter(x_new, y_new, color=colors[i], label=class_names[i])\n",
    "        ax.legend()  # 凡例の追加\n",
    "    else:\n",
    "        print(\"djkfhf\")\n",
    "        for i in range(10):  # クラスごとに色を分けてプロット\n",
    "            plt.scatter(x_embedded[y == i, 0], x_embedded[y == i, 1], color=colors[i], label=class_names[i])\n",
    "        plt.legend()  # 凡例の追加\n",
    "    plt.show()\n",
    "\n",
    "\n",
    "# t-SNEによるベクトル分布表示\n",
    "# GPU上でのテンソルをNumPy配列に変換し、CPUにコピー\n",
    "z_test_np = z_test.cpu().detach().numpy().copy()\n",
    "y_test_np = y_test.cpu().detach().numpy().copy()\n",
    "plot_tsne_interactive(z_test_np, y_test_np, dimension=3)"
   ]
  },
  {
   "cell_type": "code",
   "execution_count": null,
   "metadata": {},
   "outputs": [],
   "source": [
    "# クラス名\n",
    "class_names = ['T-shirt/top', 'Trouser', 'Pullover', 'Dress', 'Coat', 'Sandal', 'Shirt', 'Sneaker', 'Bag', 'Ankle boot']\n",
    "# 事前に定義された10色のリスト\n",
    "colors = [\"blue\",\"green\",\"red\",\"cyan\",\"magenta\",\"yellow\",\"black\",'#f781bf','#a65628','#ff7f00']\n",
    "\n",
    "# 正距方位図法への写像\n",
    "def project_to_unit_sphere(x, y, z):\n",
    "    \"\"\"\n",
    "    Projects the 3D coordinates (x, y, z) onto the unit sphere.\n",
    "    \"\"\"\n",
    "    distance = np.sqrt(x**2 + y**2 + z**2)\n",
    "    normalized_x = x / distance\n",
    "    normalized_y = y / distance\n",
    "    normalized_z = z / distance\n",
    "    return normalized_x, normalized_y, normalized_z\n",
    "\n",
    "def project_3d_to_2d_on_unit_circle(x, y, z):\n",
    "    \"\"\"\n",
    "    Projects 3D coordinates (x, y, z) first onto the unit sphere \n",
    "    and then using Equidistant Cylindrical Projection onto the 2D plane.\n",
    "    Assumes viewing from above the z-axis after the projection onto the unit sphere.\n",
    "    \"\"\"\n",
    "    # Project onto unit sphere\n",
    "    normalized_x, normalized_y, normalized_z = project_to_unit_sphere(x, y, z)\n",
    "    # Project onto 2D plane using equidistant cylindrical projection\n",
    "    # projected_x, projected_y = project_to_equidistant_cylindrical(normalized_x, normalized_y, normalized_z)\n",
    "    return normalized_x, normalized_y, normalized_z\n",
    "    # return projected_x, projected_y\n",
    "    \n",
    "\n",
    "def plot_tsne_interactive(x, y, dimension=3):\n",
    "    # tsne = TSNE(n_components=dimension)\n",
    "    tsne = TSNE(n_components=dimension, random_state = 0, perplexity = 30, n_iter = 1000)\n",
    "    x_embedded = tsne.fit_transform(x)\n",
    "    print(x_embedded.shape)\n",
    "    \n",
    "    plt.figure(figsize=(13, 10))\n",
    "    if dimension == 3:\n",
    "        ax = plt.subplot(111, projection='3d')\n",
    "        for i in range(1):  # クラスごとに色を分けてプロット\n",
    "            # 正距方位図法へ写像するプログラムを追加\n",
    "            \n",
    "            x_new, y_new, z_new = project_3d_to_2d_on_unit_circle(x_embedded[y==i,0], x_embedded[y==i,1], x_embedded[y==i,2])\n",
    "            # ax.scatter(x_embedded[y == i, 0], x_embedded[y == i, 1], x_embedded[y == i, 2], color=colors[i], label=class_names[i])\n",
    "            ax.scatter(x_new, y_new, z_new, color=colors[i], label=class_names[i])\n",
    "            # plt.scatter(x_new, y_new, color=colors[i], label=class_names[i])\n",
    "        ax.legend()  # 凡例の追加\n",
    "    else:\n",
    "        for i in range(10):  # クラスごとに色を分けてプロット\n",
    "            plt.scatter(x_embedded[y == i, 0], x_embedded[y == i, 1], color=colors[i], label=class_names[i])\n",
    "        plt.legend()  # 凡例の追加\n",
    "    \n",
    "    plt.show()\n",
    "\n",
    "\n",
    "# t-SNEによるベクトル分布表示\n",
    "# GPU上でのテンソルをNumPy配列に変換し、CPUにコピー\n",
    "z_test_np = z_test.cpu().detach().numpy().copy()\n",
    "y_test_np = y_test.cpu().detach().numpy().copy()\n",
    "plot_tsne_interactive(z_test_np, y_test_np, dimension=3)"
   ]
  },
  {
   "cell_type": "code",
   "execution_count": null,
   "metadata": {},
   "outputs": [],
   "source": [
    "# クラス名\n",
    "class_names = ['T-shirt/top', 'Trouser', 'Pullover', 'Dress', 'Coat', 'Sandal', 'Shirt', 'Sneaker', 'Bag', 'Ankle boot']\n",
    "# 事前に定義された10色のリスト\n",
    "colors = [\"blue\",\"green\",\"red\",\"cyan\",\"magenta\",\"yellow\",\"black\",'#f781bf','#a65628','#ff7f00']\n",
    "\n",
    "# 正距方位図法への写像\n",
    "def project_to_unit_sphere(x, y, z):\n",
    "    \"\"\"\n",
    "    Projects the 3D coordinates (x, y, z) onto the unit sphere.\n",
    "    \"\"\"\n",
    "    distance = np.sqrt(x**2 + y**2 + z**2)\n",
    "    normalized_x = x / distance\n",
    "    normalized_y = y / distance\n",
    "    normalized_z = z / distance\n",
    "    return normalized_x, normalized_y, normalized_z\n",
    "\n",
    "def project_3d_to_2d_on_unit_circle(x, y, z):\n",
    "    \"\"\"\n",
    "    Projects 3D coordinates (x, y, z) first onto the unit sphere \n",
    "    and then using Equidistant Cylindrical Projection onto the 2D plane.\n",
    "    Assumes viewing from above the z-axis after the projection onto the unit sphere.\n",
    "    \"\"\"\n",
    "    # Project onto unit sphere\n",
    "    normalized_x, normalized_y, normalized_z = project_to_unit_sphere(x, y, z)\n",
    "    # Project onto 2D plane using equidistant cylindrical projection\n",
    "    # projected_x, projected_y = project_to_equidistant_cylindrical(normalized_x, normalized_y, normalized_z)\n",
    "    return normalized_x, normalized_y, normalized_z\n",
    "    # return projected_x, projected_y\n",
    "    \n",
    "\n",
    "def plot_tsne_interactive(x, y, dimension=3):\n",
    "    # tsne = TSNE(n_components=dimension)\n",
    "    tsne = TSNE(n_components=dimension, random_state = 0, perplexity = 30, n_iter = 1000)\n",
    "    x_embedded = tsne.fit_transform(x)\n",
    "    print(x_embedded.shape)\n",
    "    \n",
    "    plt.figure(figsize=(13, 10))\n",
    "    if dimension == 3:\n",
    "        ax = plt.subplot(111, projection='3d')\n",
    "        for i in range(1):  # クラスごとに色を分けてプロット\n",
    "            # 正距方位図法へ写像するプログラムを追加\n",
    "            \n",
    "            translated_points=translate_points_to_origin_numpy(x_embedded)\n",
    "            # 1、正規化\n",
    "            x_1, y_1, z_1 = project_to_unit_sphere(translated_points[y==i,0], translated_points[y==i,1], translated_points[y==i,2])\n",
    "            # 2、正距方位図法空間へ写像\n",
    "#             x_new, y_new= azimuthal_equidistant_projection(x_1, y_1, z_1)\n",
    "            \n",
    "            x_new, y_new, z_new = project_3d_to_2d_on_unit_circle(x_1, y_1, z_1)\n",
    "            # ax.scatter(x_embedded[y == i, 0], x_embedded[y == i, 1], x_embedded[y == i, 2], color=colors[i], label=class_names[i])\n",
    "            ax.scatter(x_new, y_new, z_new, color=colors[i], label=class_names[i])\n",
    "            # plt.scatter(x_new, y_new, color=colors[i], label=class_names[i])\n",
    "        ax.legend()  # 凡例の追加\n",
    "    else:\n",
    "        for i in range(10):  # クラスごとに色を分けてプロット\n",
    "            plt.scatter(x_embedded[y == i, 0], x_embedded[y == i, 1], color=colors[i], label=class_names[i])\n",
    "        plt.legend()  # 凡例の追加\n",
    "    \n",
    "    plt.show()\n",
    "\n",
    "\n",
    "# t-SNEによるベクトル分布表示\n",
    "# GPU上でのテンソルをNumPy配列に変換し、CPUにコピー\n",
    "z_test_np = z_test.cpu().detach().numpy().copy()\n",
    "y_test_np = y_test.cpu().detach().numpy().copy()\n",
    "plot_tsne_interactive(z_test_np, y_test_np, dimension=3)"
   ]
  },
  {
   "cell_type": "markdown",
   "metadata": {},
   "source": [
    "それぞれのクラスの重心を画像中心において10クラスまとめて可視化"
   ]
  },
  {
   "cell_type": "code",
   "execution_count": null,
   "metadata": {},
   "outputs": [],
   "source": [
    "# def plot_tsne_interactive_new(x, y, dimension=3):\n",
    "#     fig, axes = plt.subplots(2, 5, figsize=(10,10))\n",
    "#     axes=axes.ravel()\n",
    "    \n",
    "#     # tsne = TSNE(n_components=dimension)\n",
    "#     tsne = TSNE(n_components=dimension, random_state = 0, perplexity = 30, n_iter = 1000)\n",
    "#     x_embedded = tsne.fit_transform(x)\n",
    "    \n",
    "#     # plt.figure(figsize=(5, 5))\n",
    "#     if dimension == 3:\n",
    "#         for i, ax in enumerate(axes):\n",
    "#             x_new, y_new= project_3d_to_2d_on_unit_circle(x_embedded[y==i,0], x_embedded[y==i,1], x_embedded[y==i,2])\n",
    "#             ax.scatter(x_new, y_new, color=colors[i], label=class_names[i])\n",
    "#             ax.legend()  # 凡例の追加\n",
    "#     else:\n",
    "#         for i in range(10):  # クラスごとに色を分けてプロット\n",
    "#             plt.scatter(x_embedded[y == i, 0], x_embedded[y == i, 1], color=colors[i], label=class_names[i])\n",
    "#         plt.legend()  # 凡例の追加\n",
    "#     plt.tight_layout()\n",
    "#     plt.show()\n",
    "\n",
    "# # t-SNEによるベクトル分布表示\n",
    "# z_test_np = z_test.to('cpu').detach().numpy().copy()\n",
    "# y_test_np = y_test.to('cpu').detach().numpy().copy()\n",
    "# plot_tsne_interactive_new(z_test_np, y_test_np, dimension=3)"
   ]
  }
 ],
 "metadata": {
  "kernelspec": {
   "display_name": "Python 3",
   "language": "python",
   "name": "python3"
  },
  "language_info": {
   "codemirror_mode": {
    "name": "ipython",
    "version": 3
   },
   "file_extension": ".py",
   "mimetype": "text/x-python",
   "name": "python",
   "nbconvert_exporter": "python",
   "pygments_lexer": "ipython3",
   "version": "3.7.6"
  }
 },
 "nbformat": 4,
 "nbformat_minor": 5
}
